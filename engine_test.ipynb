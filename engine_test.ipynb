{
 "cells": [
  {
   "cell_type": "code",
   "execution_count": 1,
   "metadata": {
    "collapsed": true
   },
   "outputs": [],
   "source": [
    "from engine import Engine"
   ]
  },
  {
   "cell_type": "code",
   "execution_count": 3,
   "metadata": {
    "collapsed": false
   },
   "outputs": [
    {
     "name": "stdout",
     "output_type": "stream",
     "text": [
      "Running...\n",
      "mouse: (344, 348)\n",
      "mouse: (296, 227)\n",
      "mouse: (218, 173)\n"
     ]
    }
   ],
   "source": [
    "# using the built in run loop\n",
    "engine = Engine(caption='Built in run loop')\n",
    "\n",
    "def callback():\n",
    "    pass\n",
    "\n",
    "def mouse_pressed():\n",
    "    print('mouse: {}'.format(engine.mouse))\n",
    "\n",
    "engine.run(callback=callback, mouse_pressed=mouse_pressed)"
   ]
  },
  {
   "cell_type": "code",
   "execution_count": 4,
   "metadata": {
    "collapsed": false
   },
   "outputs": [],
   "source": [
    "# using a custom run loop\n",
    "\n",
    "engine = Engine(caption='Custom run loop')\n",
    "\n",
    "running = True\n",
    "while running:\n",
    "    for e in engine.events():\n",
    "        if engine.quit_event(e):\n",
    "            running = False\n",
    "            \n",
    "    engine.step_physics()\n",
    "    engine.render()\n",
    "    engine.clock_tick()\n",
    "    \n",
    "engine.close()"
   ]
  },
  {
   "cell_type": "code",
   "execution_count": 17,
   "metadata": {
    "collapsed": false
   },
   "outputs": [],
   "source": [
    "# using a custom run loop\n",
    "import util\n",
    "import numpy as np\n",
    "from engine import Engine\n",
    "\n",
    "sig = lambda x: 1.0/(1.0+np.exp(-x))\n",
    "\n",
    "# sparse:\n",
    "sparsity = 30\n",
    "def act(x):\n",
    "    x = x.copy()\n",
    "    idx = np.argpartition(x, sparsity)[0, :sparsity]\n",
    "    x[0, idx] = 0\n",
    "    return x\n",
    "\n",
    "def act_p(x):\n",
    "    idx = np.argpartition(x, sparsity)[0, :sparsity]\n",
    "    mask = np.ones_like(x)\n",
    "    mask[0, idx] = 0\n",
    "    return mask\n",
    "\n",
    "W = np.random.randn(32, 32)\n",
    "h = np.random.randn(1, 32)\n",
    "\n",
    "gW = np.zeros_like(W)\n",
    "\n",
    "engine = Engine(caption='Custom run loop', width=1280, height=720)\n",
    "\n",
    "seq = 0\n",
    "\n",
    "running = True\n",
    "while running:\n",
    "    for e in engine.events():\n",
    "        if engine.quit_event(e):\n",
    "            running = False\n",
    "    \n",
    "    \n",
    "    h1 = np.clip(act(h.dot(W)), -1, 1)\n",
    "    \n",
    "    gW += np.multiply(h.T, h1)\n",
    "    gW = np.clip(gW, -1, 1)\n",
    "    \n",
    "    if h1[0, seq] > 0:\n",
    "        W += 0.01 * gW\n",
    "        \n",
    "    W = np.clip(W, -1, 1)\n",
    "    W *= 0.9998\n",
    "    W += np.random.randn(W.shape[0], W.shape[1]) * 0.01\n",
    "    gW *= 0.9\n",
    "    \n",
    "    \n",
    "    targ = np.zeros_like(h)\n",
    "    targ[0, seq] = 1\n",
    "    \n",
    "    \n",
    "    util.render_matrices(engine.screen, [h.T, W, h1.T, targ.T, gW])\n",
    "    \n",
    "    seq += 1\n",
    "    if seq >= h1.shape[1]:\n",
    "        seq = 0\n",
    "            \n",
    "    h = h1.copy() + np.random.randn(h1.shape[0], h1.shape[1]) * 0.1\n",
    "    \n",
    "    engine.render()\n",
    "    engine.clock_tick()\n",
    "    \n",
    "engine.close()"
   ]
  },
  {
   "cell_type": "code",
   "execution_count": null,
   "metadata": {
    "collapsed": true
   },
   "outputs": [],
   "source": []
  }
 ],
 "metadata": {
  "kernelspec": {
   "display_name": "Python 3",
   "language": "python",
   "name": "python3"
  },
  "language_info": {
   "codemirror_mode": {
    "name": "ipython",
    "version": 3
   },
   "file_extension": ".py",
   "mimetype": "text/x-python",
   "name": "python",
   "nbconvert_exporter": "python",
   "pygments_lexer": "ipython3",
   "version": "3.4.5"
  },
  "widgets": {
   "state": {},
   "version": "1.1.2"
  }
 },
 "nbformat": 4,
 "nbformat_minor": 0
}
