{
 "cells": [
  {
   "cell_type": "code",
   "execution_count": 10,
   "metadata": {
    "collapsed": false
   },
   "outputs": [
    {
     "name": "stdout",
     "output_type": "stream",
     "text": [
      "File saved as: creatures/stilts2.json\n"
     ]
    }
   ],
   "source": [
    "from editor import Editor\n",
    "from Box2D.b2 import pi\n",
    "\n",
    "# edit your model by running this cell\n",
    "# to add a body part hit b and it will spawn under your mouse\n",
    "# to move body parts drag them with the mouse\n",
    "# to connect body parts, hit p to pin two bodies at the mouse location\n",
    "# to change a body part's size, click and hold, then use the arrow keys to modify width/height\n",
    "# hit 's' to save while editing to model.json\n",
    "\n",
    "editor = Editor()\n",
    "editor.load('creatures/stilts2.json')\n",
    "editor.run()"
   ]
  },
  {
   "cell_type": "code",
   "execution_count": 1,
   "metadata": {
    "collapsed": false
   },
   "outputs": [
    {
     "data": {
      "image/png": "[encoded data removed]",
      "text/plain": [
       "<matplotlib.figure.Figure at 0x7faf1109a9e8>"
      ]
     },
     "metadata": {},
     "output_type": "display_data"
    },
    {
     "name": "stdout",
     "output_type": "stream",
     "text": [
      "episode: 800 states: 1758 memories: 25728 avg_delta: 9.7371 eps: 0.3 lrn_rate: 0.1\n"
     ]
    }
   ],
   "source": [
    "%matplotlib inline\n",
    "from matplotlib import pyplot as plt\n",
    "import numpy as np\n",
    "from IPython.display import clear_output\n",
    "import pygame\n",
    "from pygame.locals import (MOUSEBUTTONDOWN, MOUSEBUTTONUP, KEYDOWN, K_RIGHT, K_LEFT, K_UP, K_DOWN, K_r, K_s)\n",
    "from Box2D.b2 import pi\n",
    "from engine import Engine\n",
    "from time import sleep\n",
    "\n",
    "# train your model to (hopefully) walk by running this cell\n",
    "\n",
    "# hit s to speed up training, and s again to watch the best set of weights\n",
    "# use the up and down arrow keys to introduce more or less randomness in weight changes\n",
    "\n",
    "# this cell is an experiment with policy improvement\n",
    "# the agent's joint torques (continuous, action) are randomly sampled from means output by a neural network\n",
    "# the gradient wrt the weights of that network, for that state, are saved each time step\n",
    "# if the average reward at the end of an episode is positive, we want the agent to act more like it did\n",
    "# if the reward was negative we want it to act less like it did that episode\n",
    "\n",
    "FILE = 'creatures/two_legs.json'\n",
    "\n",
    "FET_STEPS = 12\n",
    "JOINT_SPEED = 3\n",
    "\n",
    "# matrix render size\n",
    "PAD = 12\n",
    "\n",
    "# Physics engine and window\n",
    "LOWER_LIM = -.1 * np.pi\n",
    "UPPER_LIM = .1 * np.pi\n",
    "LIMIT = True\n",
    "ANGLE_RANGE = UPPER_LIM - LOWER_LIM if LIMIT else np.pi*2.0\n",
    "\n",
    "engine = Engine(caption='Train', width=1280, height=720, gravity=(0, -50), joint_limit=LIMIT, \\\n",
    "               upper_angle=UPPER_LIM, lower_angle=LOWER_LIM, max_torque=10000, \\\n",
    "                linear_damping=0.0, angular_damping=0.0)\n",
    "\n",
    "# Load creature\n",
    "engine.load(FILE)\n",
    "\n",
    "# count joints and body parts\n",
    "body_count = len(engine.bodies)\n",
    "joint_count = len(engine.joints)\n",
    "\n",
    "ACTIONS = range(2**joint_count)\n",
    "\n",
    "if body_count == 0 or joint_count == 0:\n",
    "    engine.close()\n",
    "    raise RuntimeError(\"Your model doesn't have any physics bodies or joints\")\n",
    "\n",
    "def render_matrix(m, p):\n",
    "    x = p[0]\n",
    "    y = p[1]\n",
    "    \n",
    "    #high = np.max(m)\n",
    "    #low = np.min(m)\n",
    "    #norm = (m-low)/(high-low)\n",
    "    #norm *= 2.0\n",
    "    #norm -= 1\n",
    "    norm = np.clip(m, -1, 1)\n",
    "    for i in range(m.shape[0]):\n",
    "        for j in range(m.shape[1]):\n",
    "            v = norm[i, j]\n",
    "            r = int(max(v, 0) * 255)\n",
    "            b = int(-min(v, 0) * 255)\n",
    "            engine.draw_rect((x, y, PAD, PAD), 0, (r, 0, b))\n",
    "            x += PAD\n",
    "        x = p[0]\n",
    "        y += PAD\n",
    "        \n",
    "def render_matrices(ms):\n",
    "    sx = 10\n",
    "    sy = 10\n",
    "    miniPAD = PAD\n",
    "    for m in ms:\n",
    "        render_matrix(m, (sx, sy))\n",
    "        sx += m.shape[1] * PAD + miniPAD\n",
    "        \n",
    "def bit_on(a, bit):\n",
    "    mask = 2**bit\n",
    "    return a&mask > 0\n",
    "\n",
    "def features(time_step=0):\n",
    "    f = np.zeros([body_count, FET_STEPS])\n",
    "    \n",
    "    for i, b in enumerate(engine.bodies):\n",
    "        a = b.angle % ANGLE_RANGE\n",
    "        a /= ANGLE_RANGE\n",
    "        a *= FET_STEPS\n",
    "        idx = int(np.floor(a))\n",
    "        f[i, idx] = 1\n",
    "        \n",
    "    return f, str(f)\n",
    "\n",
    "def act(action):\n",
    "    for i, j in enumerate(engine.joints):\n",
    "        j.motorSpeed = JOINT_SPEED if bit_on(action, i) else -JOINT_SPEED\n",
    "\n",
    "class State(object):\n",
    "    def __init__(self, name):\n",
    "        self.name = name\n",
    "        self.qs = np.array([[0.0 for a in ACTIONS]])\n",
    "        self.visits = 0\n",
    "        \n",
    "    def sample_action(self, eps):\n",
    "        if all(self.qs[0] == self.qs[0, 0]):\n",
    "            # all equal, random action\n",
    "            return np.random.choice(ACTIONS)\n",
    "        dist = [eps/len(ACTIONS) for a in ACTIONS]\n",
    "        dist[np.argmax(self.qs[0])] += 1.0 - eps\n",
    "        return np.random.choice(ACTIONS, p=dist)\n",
    "    \n",
    "def state(f):\n",
    "    if f in states:\n",
    "        return states[f]\n",
    "    else:\n",
    "        s = State(f)\n",
    "        states[f] = s\n",
    "        return s\n",
    "        \n",
    "TIMESTEPS = 30 # timesteps per episode\n",
    "TRAIN_ITERS = 30000 # times to sample memory to update qs\n",
    "learning_rate = .1\n",
    "eps = .3 # 1: full exploration, 0: full exploitation\n",
    "gamma = 0.8 # discount value of future actions\n",
    "\n",
    "total_r = 0.0\n",
    "episode = 0\n",
    "rs = []\n",
    "\n",
    "states = {}\n",
    "M = [] # (S, A, R, S, A) tuples\n",
    "\n",
    "speedup = False\n",
    "running = True\n",
    "interacted = False\n",
    "\n",
    "while running:\n",
    "    if not interacted:\n",
    "        rs += [total_r]\n",
    "    \n",
    "    if episode % 100 == 0:\n",
    "        clear_output(wait=True)\n",
    "        \n",
    "        if len(rs) > 1000:\n",
    "            rs = rs[-1000:]\n",
    "        \n",
    "        fig = plt.plot(rs, 'b')\n",
    "        plt.plot([0, len(rs)], [0, 0], 'r')\n",
    "        plt.show()\n",
    "        \n",
    "        # train on experience\n",
    "        avg_delta = 0\n",
    "        train_iters = min(len(M), TRAIN_ITERS)\n",
    "        if len(M) > 0:\n",
    "            for i in range(train_iters):\n",
    "                xp = M[np.random.randint(0, len(M))]\n",
    "                _s0, _a0, _r, _s1, _a1 = xp\n",
    "                delta = (_r + gamma * np.max(_s1.qs) - _s0.qs[0, _a0])\n",
    "                _s0.qs[0, _a0] += learning_rate * delta\n",
    "                avg_delta += delta\n",
    "                \n",
    "            avg_delta = np.round(avg_delta / train_iters, 4)\n",
    "        #visits = [s.visits for s in states.values()]\n",
    "        #plt.plot(visits)\n",
    "        #plt.show()\n",
    "        print('episode: {} states: {} memories: {} avg_delta: {} eps: {} lrn_rate: {}'.format(\\\n",
    "               episode, len(states.keys()), len(M), avg_delta, eps, learning_rate))\n",
    "    \n",
    "    # new episode\n",
    "    engine.clear_all_but_ground()\n",
    "    engine.load(FILE)\n",
    "    engine.set_position((engine.width/2, engine.height/2))\n",
    "    \n",
    "    for j in engine.joints:\n",
    "        j.motorSpeed = np.random.randn()\n",
    "    \n",
    "    engine.step_physics(50)\n",
    "    for b in engine.bodies:\n",
    "        b.linearVelocity = (0, 0)\n",
    "        b.angularVelocity = 0\n",
    "    \n",
    "    episode += 1\n",
    "    \n",
    "    t = 0\n",
    "    total_r = 0.0\n",
    "    \n",
    "    f, sf = features()\n",
    "    s0 = state(sf)\n",
    "    a0 = s0.sample_action(eps)\n",
    "    \n",
    "    interacted = False    \n",
    "    reset = False\n",
    "    \n",
    "    while not reset:\n",
    "        engine.clear_screen()\n",
    "        \n",
    "        # keyboard input\n",
    "        engine.update_mouse()\n",
    "        for event in engine.events():\n",
    "            if engine.quit_event(event):\n",
    "                running = False\n",
    "                reset = True\n",
    "            if event.type == KEYDOWN:\n",
    "                k = pygame.key.get_pressed()\n",
    "                if k[K_UP]:\n",
    "                    eps += 0.05\n",
    "                elif k[K_DOWN]:\n",
    "                    eps -= 0.05\n",
    "                elif k[K_s]:\n",
    "                    speedup = not speedup\n",
    "                    if not speedup:\n",
    "                        reset = True\n",
    "                eps = np.round(eps, 2)\n",
    "                if eps < 0:\n",
    "                    eps = 0\n",
    "            if event.type == MOUSEBUTTONDOWN:\n",
    "                engine.create_mouse_joint()\n",
    "                if engine.mouse_joint:\n",
    "                    interacted = True\n",
    "            if event.type == MOUSEBUTTONUP:\n",
    "                engine.destroy_mouse_joint()\n",
    "        \n",
    "        engine.update_mouse_joint()\n",
    "        \n",
    "        s0.visits += 1\n",
    "        \n",
    "        start_p = engine.body_position()\n",
    "        \n",
    "        act(a0)\n",
    "        \n",
    "        for i in range(20):\n",
    "            engine.step_physics(1)\n",
    "            if not speedup:\n",
    "                engine.clear_screen()\n",
    "                render_matrices([f, s0.qs])\n",
    "                engine.render()\n",
    "                engine.clock_tick()\n",
    "                \n",
    "        end_p = engine.body_position()\n",
    "        \n",
    "        # reward\n",
    "        #reward = -1\n",
    "        reward = end_p[0] - start_p[0]\n",
    "        render_matrix(np.array([[reward]]), (int(end_p[0]), int(end_p[1])))\n",
    "        \n",
    "        total_r += reward\n",
    "        \n",
    "        f, sf = features()\n",
    "        s1 = state(sf)\n",
    "        a1 = s1.sample_action(eps)\n",
    "        \n",
    "        # train\n",
    "        s0.qs[0, a0] += learning_rate * (reward + gamma * np.max(s1.qs) - s0.qs[0, a0])\n",
    "        \n",
    "        # remember\n",
    "        M += [(s0, a0, reward, s1, a1)]\n",
    "                \n",
    "        if abs(end_p[0] - engine.width/2) > 400:\n",
    "            engine.set_position((engine.width/2, end_p[1]), zero_vel=False)\n",
    "        \n",
    "        \n",
    "        if t > TIMESTEPS and speedup:\n",
    "            reset = True\n",
    "            if (episode+1)%10 == 0:\n",
    "                render_matrices([f, s0.qs])\n",
    "                engine.render()\n",
    "        \n",
    "        if not speedup:\n",
    "            render_matrices([f, s0.qs])\n",
    "            engine.render()\n",
    "            engine.clock_tick()\n",
    "\n",
    "        # prepare for next rounds\n",
    "        t += 1\n",
    "        \n",
    "        s0 = s1\n",
    "        a0 = a1\n",
    "\n",
    "engine.close()"
   ]
  },
  {
   "cell_type": "code",
   "execution_count": 160,
   "metadata": {
    "collapsed": false
   },
   "outputs": [
    {
     "data": {
      "text/plain": [
       "[<matplotlib.lines.Line2D at 0x7f28cfcbcb38>]"
      ]
     },
     "execution_count": 160,
     "metadata": {},
     "output_type": "execute_result"
    },
    {
     "data": {
      "image/png": "[encoded data removed]",
      "text/plain": [
       "<matplotlib.figure.Figure at 0x7f28cfcf36a0>"
      ]
     },
     "metadata": {},
     "output_type": "display_data"
    }
   ],
   "source": [
    "abs_ds = []\n",
    "for i in range(10000):\n",
    "    xp = M[np.random.randint(0, len(M))]\n",
    "    _s0, _a0, _r, _s1, _a1 = xp\n",
    "    delta = (_r + 0.8 * np.max(_s1.qs) - _s0.qs[0, _a0])\n",
    "    _s0.qs[0, _a0] += 0.1 * delta\n",
    "    abs_ds += [abs(delta)]\n",
    "\n",
    "plt.plot(abs_ds)"
   ]
  },
  {
   "cell_type": "code",
   "execution_count": null,
   "metadata": {
    "collapsed": true
   },
   "outputs": [],
   "source": []
  },
  {
   "cell_type": "code",
   "execution_count": null,
   "metadata": {
    "collapsed": true
   },
   "outputs": [],
   "source": []
  },
  {
   "cell_type": "code",
   "execution_count": null,
   "metadata": {
    "collapsed": true
   },
   "outputs": [],
   "source": []
  },
  {
   "cell_type": "code",
   "execution_count": null,
   "metadata": {
    "collapsed": true
   },
   "outputs": [],
   "source": []
  },
  {
   "cell_type": "code",
   "execution_count": null,
   "metadata": {
    "collapsed": true
   },
   "outputs": [],
   "source": []
  },
  {
   "cell_type": "code",
   "execution_count": null,
   "metadata": {
    "collapsed": true
   },
   "outputs": [],
   "source": []
  },
  {
   "cell_type": "code",
   "execution_count": null,
   "metadata": {
    "collapsed": true
   },
   "outputs": [],
   "source": []
  }
 ],
 "metadata": {
  "kernelspec": {
   "display_name": "Python 3",
   "language": "python",
   "name": "python3"
  },
  "language_info": {
   "codemirror_mode": {
    "name": "ipython",
    "version": 3
   },
   "file_extension": ".py",
   "mimetype": "text/x-python",
   "name": "python",
   "nbconvert_exporter": "python",
   "pygments_lexer": "ipython3",
   "version": "3.4.5"
  },
  "widgets": {
   "state": {
    "3fcfdada808a4548ae2a4ddcd05eaa05": {
     "views": []
    },
    "4161c8cacdb34098b564c91f39b54df0": {
     "views": []
    },
    "5ec3ef53b374454288f68eb395e14ba1": {
     "views": []
    },
    "61f245a083ee49709f7d62ed78f913b3": {
     "views": []
    },
    "7d25beda9eaf4d4b8a4c2b8f962957fe": {
     "views": []
    },
    "b1f61c63817443d3b18e56aa2b36f347": {
     "views": []
    },
    "bd8f7ab3e0ca42ae9bcef3f262ea16c4": {
     "views": []
    },
    "c8e23fa4f0da46bd8cf49bd6630cba8b": {
     "views": []
    },
    "cb6b3e05e4f14a64810145e7bf6201b9": {
     "views": []
    },
    "ce0bb0739683466899b4ce80ddec9460": {
     "views": []
    },
    "daa7a1c60a2740d693ac4855065647de": {
     "views": []
    },
    "f371e110674442918b82c23716705ac9": {
     "views": []
    }
   },
   "version": "1.1.2"
  }
 },
 "nbformat": 4,
 "nbformat_minor": 0
}
