{
 "cells": [
  {
   "cell_type": "code",
   "execution_count": null,
   "metadata": {
    "collapsed": false
   },
   "outputs": [],
   "source": [
    "from editor import Editor\n",
    "from Box2D.b2 import pi\n",
    "\n",
    "# edit your model by running this cell\n",
    "# hit 's' to save while editing to model.json\n",
    "\n",
    "editor = Editor()\n",
    "editor.load('wheel_arm.json')\n",
    "editor.run()"
   ]
  },
  {
   "cell_type": "code",
   "execution_count": 3,
   "metadata": {
    "collapsed": false
   },
   "outputs": [
    {
     "name": "stdout",
     "output_type": "stream",
     "text": [
      "avg_r: -0.1 eps: 0.3 memories: 20000 action: 151\n"
     ]
    }
   ],
   "source": [
    "%matplotlib inline\n",
    "from matplotlib import pyplot as plt\n",
    "\n",
    "import numpy as np\n",
    "from IPython.display import clear_output\n",
    "\n",
    "import pygame\n",
    "from pygame.locals import (KEYDOWN, K_RIGHT, K_LEFT, K_r, K_s)\n",
    "\n",
    "from Box2D.b2 import pi\n",
    "\n",
    "from agent import Agent\n",
    "from engine import Engine\n",
    "\n",
    "from time import sleep\n",
    "\n",
    "# train your model to (hopefully) walk by running this cell\n",
    "FILE = 'star.json'\n",
    "\n",
    "TIMESTEPS = 500 # timesteps per episode\n",
    "\n",
    "# Physics engine and window\n",
    "LOWER_LIM = -.25 * np.pi\n",
    "UPPER_LIM = .25 * np.pi\n",
    "LIMIT = True\n",
    "\n",
    "ANGLE_RANGE = UPPER_LIM - LOWER_LIM if LIMIT else np.pi*2.0\n",
    "engine = Engine(caption='Train', width=800, height=600, gravity=(0, -50), joint_limit=LIMIT, \\\n",
    "               upper_angle=UPPER_LIM, lower_angle=LOWER_LIM, linear_damping=0.0, angular_damping=0.0)\n",
    "\n",
    "engine.load(FILE)\n",
    "\n",
    "# Add floor\n",
    "engine.add_static_body(p=(engine.width/2, engine.height-10), size=(engine.width, 10))\n",
    "\n",
    "def vis_param(i):\n",
    "    W = agent.qnet.params[i].eval(agent.qnet.session)\n",
    "    try:\n",
    "        fig = plt.imshow(W)\n",
    "    except:\n",
    "        pass\n",
    "    print(np.mean(W))\n",
    "\n",
    "# Features\n",
    "ENCODING_SIZE = 32 # buckets for body angles\n",
    "\n",
    "def features(time_step=0):\n",
    "    f = []\n",
    "    \"\"\"\n",
    "    for b in engine.world.bodies:\n",
    "        if b.userData and isinstance(b.userData, dict):\n",
    "            a = b.angle % ANGLE_RANGE\n",
    "            a /= ANGLE_RANGE\n",
    "            a = int(a * ENCODING_SIZE)\n",
    "            encoding = [0] * ENCODING_SIZE\n",
    "            encoding[a] = 1.0\n",
    "            f.extend(encoding)\"\"\"\n",
    "    \n",
    "    \n",
    "    for b in engine.world.bodies:\n",
    "        if b.userData and isinstance(b.userData, dict):\n",
    "            a = b.angle % ANGLE_RANGE\n",
    "            #a /= ANGLE_RANGE\n",
    "            #a = a * 2.0 - 1.0\n",
    "            f += [np.sin(a), np.cos(a)]\n",
    "            #f += [b.angularVelocity]\n",
    "            #f += [b.linearVelocity[0]]\n",
    "            #f += [b.linearVelocity[1]]\n",
    "            \n",
    "    #f += [float(time_step/TIMESTEPS * 2.0 - 1.0)]\n",
    "    f.append(np.sin(time_step/8.0))\n",
    "            \n",
    "    #for j in engine.world.joints:\n",
    "    #    f.append(j.motorSpeed)\n",
    "                \n",
    "    return np.array([f])\n",
    "\n",
    "# all joints change\n",
    "s_format = '{:0' + str(len(engine.world.joints)) + 'b}'\n",
    "def act(action):\n",
    "    # joint config:\n",
    "    config = s_format.format(action) # turn into binary rep\n",
    "    for i, c in enumerate(config):\n",
    "        engine.world.joints[i].motorSpeed = 5 if c == '1' else -5\n",
    "\n",
    "# one joint at a time\n",
    "\"\"\"\n",
    "def act(action):\n",
    "    #for j in engine.world.joints:\n",
    "        #j.motorSpeed = 0.0\n",
    "        \n",
    "    #for b in engine.world.bodies:\n",
    "        #if b.userData:\n",
    "            #b.angularVelocity = 0\n",
    "            #b.linearVelocity = (0, b.linearVelocity[1])\n",
    "        \n",
    "    motorSpeed = 4.0\n",
    "    cnt = len(engine.world.joints)\n",
    "    if action > cnt-1:\n",
    "        motorSpeed *= -1\n",
    "        action -= cnt\n",
    "    joint = engine.world.joints[action]\n",
    "    joint.motorSpeed = motorSpeed\"\"\"\n",
    "    \n",
    "def body_position():\n",
    "    avg = np.zeros([2])\n",
    "    cnt = 0\n",
    "    for b in engine.world.bodies:\n",
    "        if b.userData:\n",
    "            avg += [b.position[0], b.position[1]]\n",
    "            cnt += 1\n",
    "    avg /= cnt\n",
    "    return engine.to_screen(avg)\n",
    "\n",
    "def set_position(position, zero_vel=True):\n",
    "    current = engine.to_pybox2d(body_position())\n",
    "    position = engine.to_pybox2d(position)\n",
    "    shift = (position[0] - current[0], position[1] - current[1])\n",
    "    for b in engine.world.bodies:\n",
    "        if b.userData:\n",
    "            if zero_vel:\n",
    "                b.linearVelocity = (0, 0)\n",
    "                b.angularVelocity = 0\n",
    "            b.position = (b.position[0] + shift[0], b.position[1] + shift[1])\n",
    "\n",
    "body_count = len(engine.world.bodies) - 1\n",
    "joint_count = len(engine.world.joints)\n",
    "action_count = 2**joint_count\n",
    "\n",
    "if body_count == 0 or joint_count == 0:\n",
    "    engine.close()\n",
    "    raise RuntimeError(\"Your model doesn't have any physics bodies or joints\")\n",
    "\n",
    "agent = Agent(features=features().shape[1], actions=action_count, hdim=32, gamma=0.8, learning_rate=0.01, \\\n",
    "             max_memory=20000)\n",
    "agent.eps = .3\n",
    "\n",
    "rs = []\n",
    "avg_r = 0.0\n",
    "\n",
    "speedup = False\n",
    "running = True\n",
    "while running:\n",
    "    \n",
    "    # train\n",
    "    if len(agent.M) > 0:\n",
    "        clear_output(wait=True)\n",
    "        \n",
    "        fig = plt.plot(rs, 'b')\n",
    "        plt.plot([0, len(rs)], [0, 0], 'r')\n",
    "        plt.show()\n",
    "        \n",
    "\n",
    "        if len(rs) > 5000:\n",
    "            rs = rs[4000:]\n",
    "            \n",
    "        if len(agent.M) > 100:\n",
    "            agent.train(iters=100, batch_size=8, keep_prob=.9)\n",
    "            #vis_param(0)\n",
    "            #plt.show()\n",
    "            \n",
    "    \n",
    "    # timesteps\n",
    "    t = 0\n",
    "    \n",
    "    engine.clear_all_but_ground()\n",
    "    engine.load(FILE)\n",
    "    \n",
    "    # randomize position\n",
    "    #for j in engine.world.joints:\n",
    "    #    j.motorSpeed = np.random.random_sample() * 4.0 - 2.0\n",
    "    \n",
    "    set_position((engine.width/2, engine.height/2))\n",
    "    engine.step_physics(40)\n",
    "    for b in engine.world.bodies:\n",
    "        b.linearVelocity = (0, 0)\n",
    "        b.angularVelocity = 0\n",
    "        \n",
    "    \n",
    "    last_x = body_position()[0]\n",
    "    \n",
    "    s1 = features(t)\n",
    "    q1 = agent.qnet.ff(s1)\n",
    "    a1 = agent.sample_action_eps(q1)\n",
    "    \n",
    "    reset = False\n",
    "    while not reset:\n",
    "        for event in engine.events():\n",
    "            if engine.quit_event(event):\n",
    "                running = False\n",
    "                reset = True\n",
    "            if event.type == KEYDOWN:\n",
    "                k = pygame.key.get_pressed()\n",
    "                if k[K_RIGHT]:\n",
    "                    agent.eps += .1\n",
    "                elif k[K_LEFT]:\n",
    "                    agent.eps -= .1\n",
    "                elif k[K_r]:\n",
    "                    agent.reset()\n",
    "                elif k[K_s]:\n",
    "                    speedup = not speedup\n",
    "\n",
    "        # build xp tuple\n",
    "        xp = {'s1': s1.copy(), 'a1': a1}\n",
    "\n",
    "        # act a1\n",
    "        act(a1)\n",
    "        \n",
    "        # step physics engine n times\n",
    "        #for i in range(10):\n",
    "        #    engine.step_physics(1)\n",
    "        #    if not speedup:\n",
    "        #        engine.render()\n",
    "        #        engine.clock_tick()\n",
    "        \n",
    "        engine.step_physics(1)\n",
    "        \n",
    "        #for b in engine.world.bodies:\n",
    "        #    b.linearVelocity = (0, 0)\n",
    "        #    b.angularVelocity = 0\n",
    "        \n",
    "        # reward move right relative\n",
    "        reward = body_position()[0] - last_x\n",
    "        reward = min(max(reward, -1), 1)\n",
    "        #reward *= -1\n",
    "        \n",
    "        # reward height\n",
    "        #reward += (engine.height - body_position()[1])/engine.height\n",
    "        \n",
    "        xp['r'] = reward\n",
    "        \n",
    "        avg_r += .001 * (reward - avg_r)\n",
    "        rs.append(avg_r)\n",
    "                             \n",
    "        # state2\n",
    "        s2 = features(t)\n",
    "        q2 = agent.qnet.ff(s2)\n",
    "        a2 = agent.sample_action_eps_fatigue(q2)\n",
    "\n",
    "        xp['s2'] = s2.copy()\n",
    "        xp['a2'] = a2\n",
    "\n",
    "        agent.memorize(xp)\n",
    "        if t > TIMESTEPS:\n",
    "            reset = True\n",
    "        \n",
    "        if not speedup:\n",
    "            clear_output(wait=True)\n",
    "            print('avg_r: {} eps: {} memories: {} action: {}'\\\n",
    "                  .format(np.round(avg_r, 1), agent.eps, len(agent.M), a2))\n",
    "            #print('qs: {}'.format(agent.qnet.ff(s1)))\n",
    "            engine.render()\n",
    "            engine.clock_tick()\n",
    "            \n",
    "            #fig = plt.plot(fatigue[0])\n",
    "            #plt.show()\n",
    "\n",
    "        # prepare for next rounds\n",
    "        s1 = s2\n",
    "        a1 = a2\n",
    "        last_x = body_position()[0]\n",
    "        t += 1\n",
    "\n",
    "        if last_x > engine.width-50.0 or last_x < 50.0:\n",
    "            reset = True\n",
    "            engine.render()\n",
    "            engine.clock_tick()\n",
    "\n",
    "engine.close()"
   ]
  },
  {
   "cell_type": "code",
   "execution_count": 2,
   "metadata": {
    "collapsed": false
   },
   "outputs": [
    {
     "name": "stdout",
     "output_type": "stream",
     "text": [
      "-0.00533298\n"
     ]
    },
    {
     "data": {
      "image/png": "[encoded data removed]",
      "text/plain": [
       "<matplotlib.figure.Figure at 0x7f2ab3746470>"
      ]
     },
     "metadata": {},
     "output_type": "display_data"
    }
   ],
   "source": [
    "vis_param(4)"
   ]
  },
  {
   "cell_type": "code",
   "execution_count": 19,
   "metadata": {
    "collapsed": false
   },
   "outputs": [
    {
     "data": {
      "text/plain": [
       "array([ 0.0517558 ,  0.15491612,  0.01698211,  0.23895626], dtype=float32)"
      ]
     },
     "execution_count": 19,
     "metadata": {},
     "output_type": "execute_result"
    }
   ],
   "source": [
    "agent.qnet.params[5].eval(agent.qnet.session)"
   ]
  },
  {
   "cell_type": "code",
   "execution_count": null,
   "metadata": {
    "collapsed": false
   },
   "outputs": [],
   "source": [
    "agent.M[0]"
   ]
  },
  {
   "cell_type": "code",
   "execution_count": 9,
   "metadata": {
    "collapsed": false
   },
   "outputs": [
    {
     "data": {
      "image/png": "[encoded data removed]",
      "text/plain": [
       "<matplotlib.figure.Figure at 0x7fb3d3066b70>"
      ]
     },
     "metadata": {},
     "output_type": "display_data"
    }
   ],
   "source": [
    "costs = []\n",
    "for i in range(1000):\n",
    "    agent.train(iters=10, batch_size=4, keep_prob=0.8)\n",
    "    c = agent.test(batch_size=len(agent.M))\n",
    "    costs.append(c)\n",
    "    if i % 10 == 0:\n",
    "        clear_output(wait=True)\n",
    "        fig = plt.plot(costs)\n",
    "        plt.show()"
   ]
  },
  {
   "cell_type": "code",
   "execution_count": 5,
   "metadata": {
    "collapsed": false
   },
   "outputs": [
    {
     "data": {
      "image/png": "[encoded data removed]",
      "text/plain": [
       "<matplotlib.figure.Figure at 0x7fa94c05e2b0>"
      ]
     },
     "metadata": {},
     "output_type": "display_data"
    }
   ],
   "source": [
    "fig = plt.plot(agent.fatigue[0])"
   ]
  },
  {
   "cell_type": "code",
   "execution_count": 6,
   "metadata": {
    "collapsed": true
   },
   "outputs": [],
   "source": [
    "import tensorflow as tf"
   ]
  },
  {
   "cell_type": "code",
   "execution_count": null,
   "metadata": {
    "collapsed": true
   },
   "outputs": [],
   "source": [
    "tf.train.RMSPropOptimizer()"
   ]
  }
 ],
 "metadata": {
  "kernelspec": {
   "display_name": "Python 3",
   "language": "python",
   "name": "python3"
  },
  "language_info": {
   "codemirror_mode": {
    "name": "ipython",
    "version": 3
   },
   "file_extension": ".py",
   "mimetype": "text/x-python",
   "name": "python",
   "nbconvert_exporter": "python",
   "pygments_lexer": "ipython3",
   "version": "3.4.5"
  },
  "widgets": {
   "state": {},
   "version": "1.1.2"
  }
 },
 "nbformat": 4,
 "nbformat_minor": 0
}
