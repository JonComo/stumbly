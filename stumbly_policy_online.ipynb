{
 "cells": [
  {
   "cell_type": "code",
   "execution_count": 14,
   "metadata": {
    "collapsed": false
   },
   "outputs": [],
   "source": [
    "from editor import Editor\n",
    "from Box2D.b2 import pi\n",
    "\n",
    "# edit your model by running this cell\n",
    "# to add a body part hit b and it will spawn under your mouse\n",
    "# to move body parts drag them with the mouse\n",
    "# to connect body parts, hit p to pin two bodies at the mouse location\n",
    "# to change a body part's size, click and hold, then use the arrow keys to modify width/height\n",
    "# hit 's' to save while editing to model.json\n",
    "\n",
    "editor = Editor()\n",
    "editor.load('creatures/pole.json')\n",
    "editor.run()"
   ]
  },
  {
   "cell_type": "code",
   "execution_count": 2,
   "metadata": {
    "collapsed": false
   },
   "outputs": [
    {
     "data": {
      "image/png": "[encoded data removed]",
      "text/plain": [
       "<matplotlib.figure.Figure at 0x7ff2f4c23c50>"
      ]
     },
     "metadata": {},
     "output_type": "display_data"
    },
    {
     "name": "stdout",
     "output_type": "stream",
     "text": [
      "episode: 0 variance: 10 grads: 0\n"
     ]
    }
   ],
   "source": [
    "%matplotlib inline\n",
    "from matplotlib import pyplot as plt\n",
    "import numpy as np\n",
    "from IPython.display import clear_output\n",
    "import pygame\n",
    "from pygame.locals import (KEYDOWN, K_RIGHT, K_LEFT, K_UP, K_DOWN, K_r, K_s)\n",
    "from Box2D.b2 import pi\n",
    "from engine import Engine\n",
    "from time import sleep\n",
    "\n",
    "# train your model to (hopefully) walk by running this cell\n",
    "\n",
    "# hit s to speed up training, and s again to watch the best set of weights\n",
    "# use the up and down arrow keys to introduce more or less randomness in weight changes\n",
    "\n",
    "# this cell is an experiment with policy improvement\n",
    "# the agent's joint torques (continuous, action) are randomly sampled from means output by a neural network\n",
    "# the gradient wrt the weights of that network, for that state, are saved each time step\n",
    "# if the average reward at the end of an episode is positive, we want the agent to act more like it did\n",
    "# if the reward was negative we want it to act less like it did that episode\n",
    "\n",
    "FILE = 'creatures/two_legs.json'\n",
    "\n",
    "# Physics engine and window\n",
    "LOWER_LIM = -.1 * np.pi\n",
    "UPPER_LIM = .1 * np.pi\n",
    "LIMIT = True\n",
    "ANGLE_RANGE = UPPER_LIM - LOWER_LIM if LIMIT else np.pi*2.0\n",
    "\n",
    "engine = Engine(caption='Train', width=1280, height=720, gravity=(0, -50), joint_limit=LIMIT, \\\n",
    "               upper_angle=UPPER_LIM, lower_angle=LOWER_LIM, linear_damping=0.0, angular_damping=0.0)\n",
    "\n",
    "# Load creature\n",
    "engine.load(FILE)\n",
    "\n",
    "# count joints and body parts\n",
    "body_count = len(engine.world.bodies) - 1 # subtract ground body\n",
    "joint_count = len(engine.world.joints)\n",
    "\n",
    "if body_count == 0 or joint_count == 0:\n",
    "    engine.close()\n",
    "    raise RuntimeError(\"Your model doesn't have any physics bodies or joints\")\n",
    "\n",
    "def features(time_step=0):\n",
    "    f = []\n",
    "    \n",
    "    for b in engine.world.bodies:\n",
    "        if b.userData and isinstance(b.userData, dict):\n",
    "            a = b.angle % ANGLE_RANGE\n",
    "            a /= ANGLE_RANGE\n",
    "            a = a * 2.0 - 1.0\n",
    "            f += [a]\n",
    "            #f += [np.sin(a)]\n",
    "            #f += [np.cos(a)]\n",
    "            f += [engine.to_screen(b.position)[0]/engine.height]\n",
    "    \n",
    "    #f += [np.sin(time_step / 2.0)] # Creature's heartbeat? :-)\n",
    "    #f += [1] # bias\n",
    "    return np.array([f])\n",
    "    \n",
    "def body_position():\n",
    "    avg = np.zeros([2])\n",
    "    for b in engine.world.bodies:\n",
    "        if b.userData:\n",
    "            avg += [b.position[0], b.position[1]]\n",
    "    avg /= body_count\n",
    "    return engine.to_screen(avg)\n",
    "\n",
    "def set_position(position, zero_vel=True):\n",
    "    current = engine.to_pybox2d(body_position())\n",
    "    position = engine.to_pybox2d(position)\n",
    "    shift = (position[0] - current[0], position[1] - current[1])\n",
    "    for b in engine.world.bodies:\n",
    "        if b.userData:\n",
    "            if zero_vel:\n",
    "                b.linearVelocity = (0, 0)\n",
    "                b.angularVelocity = 0\n",
    "            b.position = (b.position[0] + shift[0], b.position[1] + shift[1])\n",
    "\n",
    "\n",
    "TIMESTEPS = 60 # timesteps per episode\n",
    "exploration_length = 100\n",
    "r_margin = 100\n",
    "r_rate = 0.01\n",
    "\n",
    "total_r = 0.0\n",
    "running_avg = 0.0\n",
    "episode = 0\n",
    "start_p = body_position()\n",
    "end_p = start_p\n",
    "\n",
    "learning_rate = .3\n",
    "variance = 10 # increase or decrease deviation from means output by nn\n",
    "\n",
    "hdim = 16\n",
    "\n",
    "act = lambda x: np.tanh(x)\n",
    "act_p = lambda x: 1.0 - np.tanh(x)**2\n",
    "#act = lambda x: x * (x > 0)\n",
    "#act_p = lambda x: (x > 0).astype(np.float)\n",
    "\n",
    "W1 = np.random.randn(features().shape[1], hdim) # initial set of weights\n",
    "W2 = np.random.randn(hdim, joint_count) # initial set of weights\n",
    "\n",
    "bestW1 = W1.copy()\n",
    "bestW2 = W2.copy()\n",
    "\n",
    "rs = []\n",
    "avgs = []\n",
    "grads = []\n",
    "max_r = float('-inf')\n",
    "\n",
    "speedup = False\n",
    "running = True\n",
    "\n",
    "while running:\n",
    "    #end_p = body_position()\n",
    "    #total_r = end_p[0] - start_p[0]\n",
    "    running_avg += (total_r - running_avg) * r_rate\n",
    "    avgs += [running_avg]\n",
    "    rs += [total_r]\n",
    "            \n",
    "    if episode % 100 == 0:\n",
    "        clear_output(wait=True)\n",
    "        \n",
    "        if len(rs) > 1000:\n",
    "            rs = rs[-1000:]\n",
    "        if len(avgs) > 1000:\n",
    "            avgs = avgs[-1000:]\n",
    "            \n",
    "        fig = plt.plot(rs, 'b')\n",
    "        plt.plot([0, len(rs)], [0, 0], 'r')\n",
    "        plt.plot([0, len(rs)], [max_r, max_r], 'b')\n",
    "        plt.plot([0, len(rs)], [running_avg, running_avg], 'y')\n",
    "        plt.plot(avgs, 'y')\n",
    "        plt.show()\n",
    "        \n",
    "        #plt.figure(figsize=(10, 10))\n",
    "        #plt.imshow(W2, interpolation='nearest')\n",
    "        #plt.colorbar()\n",
    "        #plt.show()\n",
    "\n",
    "        print('episode: {} variance: {} grads: {}'.format(episode, np.round(variance, 2), len(grads)))\n",
    "    \n",
    "    if episode < exploration_length:\n",
    "        if total_r > max_r:\n",
    "            max_r = total_r\n",
    "            bestW1 = W1.copy()\n",
    "            bestW2 = W2.copy()\n",
    "        W1 = np.random.randn(features().shape[1], hdim)\n",
    "        W2 = np.random.randn(hdim, joint_count)\n",
    "    elif episode == exploration_length:\n",
    "        W1 = bestW1.copy()\n",
    "        W2 = bestW2.copy()\n",
    "        speedup = False\n",
    "    elif episode > exploration_length:\n",
    "        # go through each gradient and apply\n",
    "        if abs(total_r - running_avg) < r_margin:\n",
    "            W1 = W1_saved.copy()\n",
    "            W2 = W2_saved.copy()\n",
    "        elif total_r < running_avg - r_margin:\n",
    "            # bad one\n",
    "            print('found bad W')\n",
    "            for g in grads:\n",
    "                W1 -= g['g1'] / float(TIMESTEPS) * learning_rate\n",
    "                W2 -= g['g2'] / float(TIMESTEPS) * learning_rate\n",
    "        else:\n",
    "            print('found better W')\n",
    "            #W1 += np.random.randn(W1.shape[0], W1.shape[1]) * 0.01\n",
    "            #W2 += np.random.randn(W2.shape[0], W2.shape[1]) * 0.01\n",
    "            #W1 *= 0.9998\n",
    "            #W2 *= 0.9998\n",
    "    \n",
    "    \n",
    "    # new episode\n",
    "    W1_saved = W1.copy()\n",
    "    W2_saved = W2.copy()\n",
    "    \n",
    "    engine.clear_all_but_ground()\n",
    "    engine.load(FILE)\n",
    "    \n",
    "    set_position((engine.width/2 - 400, engine.height/2))\n",
    "    \n",
    "    for j in engine.world.joints:\n",
    "        j.motorSpeed = np.random.randn()\n",
    "    \n",
    "    engine.step_physics(50)\n",
    "    for b in engine.world.bodies:\n",
    "        b.linearVelocity = (0, 0)\n",
    "        b.angularVelocity = 0\n",
    "    \n",
    "    start_p = body_position()\n",
    "    t = 0\n",
    "    total_r = 0.0\n",
    "    grads = []\n",
    "    \n",
    "    episode += 1\n",
    "    \n",
    "    reset = False\n",
    "    \n",
    "    while not reset:\n",
    "        engine.clear_screen()\n",
    "        \n",
    "        # keyboard input\n",
    "        for event in engine.events():\n",
    "            if engine.quit_event(event):\n",
    "                running = False\n",
    "                reset = True\n",
    "            if event.type == KEYDOWN:\n",
    "                k = pygame.key.get_pressed()\n",
    "                if k[K_UP]:\n",
    "                    variance += 0.1\n",
    "                elif k[K_DOWN]:\n",
    "                    variance -= 0.1\n",
    "                elif k[K_s]:\n",
    "                    speedup = not speedup\n",
    "                    if not speedup:\n",
    "                        reset = True\n",
    "                variance = max(variance, 0.1)\n",
    "        \n",
    "        x = features(t)\n",
    "        z1 = x.dot(W1)\n",
    "        h1 = act(z1)\n",
    "        z2 = h1.dot(W2)\n",
    "        \n",
    "        torques = np.array([np.random.normal(loc=u, scale=np.sqrt(variance)) for u in z2[0]])\n",
    "        \n",
    "        start_p = body_position()\n",
    "        \n",
    "        for i, j in enumerate(engine.world.joints):\n",
    "            j.motorSpeed = torques[i]\n",
    "        \n",
    "        for i in range(20):\n",
    "            engine.step_physics(1)\n",
    "            if not speedup:\n",
    "                engine.clear_screen()\n",
    "                \n",
    "                p = body_position()\n",
    "                p = (int(p[0]), int(p[1]))\n",
    "                engine.draw_circle(p, 10, (0, 255, 0))\n",
    "                \n",
    "                engine.render()\n",
    "                engine.clock_tick()\n",
    "        \n",
    "        end_p = body_position()\n",
    "        \n",
    "        # reward\n",
    "        #reward = np.average([engine.to_screen(b.position)[0]/engine.width - .5 for b in engine.world.bodies])\n",
    "        reward = (end_p[0] - start_p[0])\n",
    "        #reward = 1 if end_p[0] > start_p[0] else 0\n",
    "        #reward = 1.0 - np.average([engine.to_screen(b.position)[1]/engine.height for b in engine.world.bodies])\n",
    "        \n",
    "        total_r += reward\n",
    "        \n",
    "        # grad\n",
    "        if episode > exploration_length:\n",
    "            delta = (torques - z2) / variance\n",
    "            g2 = np.multiply(h1.T, delta)\n",
    "            dh1 = W2.dot(delta.T).T\n",
    "            dz1 = np.multiply(dh1, act_p(z1))\n",
    "            g1 = np.multiply(x.T, dz1)\n",
    "            \n",
    "            W1 += g1 / float(TIMESTEPS) * learning_rate\n",
    "            W2 += g2 / float(TIMESTEPS) * learning_rate\n",
    "            \n",
    "            grad = {'g1': g1, 'g2': g2}\n",
    "            grads += [grad]\n",
    "        \n",
    "        if t > TIMESTEPS:\n",
    "            reset = True\n",
    "            engine.render()\n",
    "        \n",
    "        if not speedup:\n",
    "            engine.render()\n",
    "            engine.clock_tick()\n",
    "\n",
    "        # prepare for next rounds\n",
    "        t += 1\n",
    "\n",
    "engine.close()"
   ]
  },
  {
   "cell_type": "code",
   "execution_count": 38,
   "metadata": {
    "collapsed": false
   },
   "outputs": [
    {
     "data": {
      "text/plain": [
       "[<matplotlib.lines.Line2D at 0x7f85e508b240>]"
      ]
     },
     "execution_count": 38,
     "metadata": {},
     "output_type": "execute_result"
    },
    {
     "data": {
      "image/png": "[encoded data removed]",
      "text/plain": [
       "<matplotlib.figure.Figure at 0x7f85e508b710>"
      ]
     },
     "metadata": {},
     "output_type": "display_data"
    }
   ],
   "source": [
    "X = np.linspace(-4, 4, 100)\n",
    "plt.plot(X, np.tanh(X))\n",
    "plt.plot(X, 1.0 - np.tanh(X)**2)"
   ]
  },
  {
   "cell_type": "code",
   "execution_count": 39,
   "metadata": {
    "collapsed": false
   },
   "outputs": [
    {
     "data": {
      "text/plain": [
       "<matplotlib.colorbar.Colorbar at 0x7f85e508f898>"
      ]
     },
     "execution_count": 39,
     "metadata": {},
     "output_type": "execute_result"
    },
    {
     "data": {
      "image/png": "[encoded data removed]",
      "text/plain": [
       "<matplotlib.figure.Figure at 0x7f85e5071630>"
      ]
     },
     "metadata": {},
     "output_type": "display_data"
    }
   ],
   "source": [
    "plt.imshow(W1, interpolation='nearest', cmap=plt.cm.viridis)\n",
    "plt.colorbar()"
   ]
  },
  {
   "cell_type": "code",
   "execution_count": 40,
   "metadata": {
    "collapsed": false
   },
   "outputs": [
    {
     "data": {
      "text/plain": [
       "<matplotlib.colorbar.Colorbar at 0x7f85e4d65518>"
      ]
     },
     "execution_count": 40,
     "metadata": {},
     "output_type": "execute_result"
    },
    {
     "data": {
      "image/png": "[encoded data removed]",
      "text/plain": [
       "<matplotlib.figure.Figure at 0x7f85e50714a8>"
      ]
     },
     "metadata": {},
     "output_type": "display_data"
    }
   ],
   "source": [
    "plt.imshow(W2, interpolation='nearest', cmap=plt.cm.viridis)\n",
    "plt.colorbar()"
   ]
  },
  {
   "cell_type": "code",
   "execution_count": null,
   "metadata": {
    "collapsed": true
   },
   "outputs": [],
   "source": []
  }
 ],
 "metadata": {
  "kernelspec": {
   "display_name": "Python 3",
   "language": "python",
   "name": "python3"
  },
  "language_info": {
   "codemirror_mode": {
    "name": "ipython",
    "version": 3
   },
   "file_extension": ".py",
   "mimetype": "text/x-python",
   "name": "python",
   "nbconvert_exporter": "python",
   "pygments_lexer": "ipython3",
   "version": "3.4.5"
  },
  "widgets": {
   "state": {},
   "version": "1.1.2"
  }
 },
 "nbformat": 4,
 "nbformat_minor": 0
}
