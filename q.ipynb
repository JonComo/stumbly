{
 "cells": [
  {
   "cell_type": "code",
   "execution_count": 1,
   "metadata": {
    "collapsed": false
   },
   "outputs": [
    {
     "name": "stdout",
     "output_type": "stream",
     "text": [
      "Welcome to the experimental pyglet+pybox2d creature editor!\n",
      "- B to add a dynamic body\n",
      "- Drag to move bodies\n",
      "- P to pin bodies together at the current mouse position\n",
      "- Arrow keys to change the size of the selected body (width, height)\n",
      "- S to save models as model.json (or whatever filename you passed in load) in the current directory\n",
      "File saved as: creatures/angles.json\n"
     ]
    }
   ],
   "source": [
    "from editor import Editor\n",
    "\n",
    "editor = Editor()\n",
    "editor.load('creatures/angles.json')\n",
    "editor.run()"
   ]
  },
  {
   "cell_type": "code",
   "execution_count": 2,
   "metadata": {
    "collapsed": false
   },
   "outputs": [
    {
     "data": {
      "image/png": "[encoded data removed]",
      "text/plain": [
       "<matplotlib.figure.Figure at 0x11451b160>"
      ]
     },
     "metadata": {},
     "output_type": "display_data"
    },
    {
     "name": "stdout",
     "output_type": "stream",
     "text": [
      "episode: 0 states: 0 memories: 0 avg_delta: 0 eps: 0.3 lrn_rate: 0.01 avg_visits: 0\n"
     ]
    }
   ],
   "source": [
    "%matplotlib inline\n",
    "from matplotlib import pyplot as plt\n",
    "import numpy as np\n",
    "from IPython.display import clear_output\n",
    "from engine import Engine\n",
    "from pyglet.window import key\n",
    "\n",
    "# train your model to (hopefully) walk by running this cell\n",
    "\n",
    "# hit s to speed up training, and s again to watch the best set of weights\n",
    "# use the up and down arrow keys to introduce more or less randomness in weight changes\n",
    "\n",
    "# This is an experiment with q learning\n",
    "\n",
    "FILE = 'creatures/human.json'\n",
    "\n",
    "FET_STEPS = 8 # buckets to discretize angle of body parts\n",
    "JOINT_SPEED = 3 # motor speed to use when executing a list of joint torques\n",
    "\n",
    "# Physics engine and window\n",
    "LOWER_LIM = -.1 * np.pi\n",
    "UPPER_LIM = .1 * np.pi\n",
    "LIMIT = True\n",
    "ANGLE_RANGE = UPPER_LIM - LOWER_LIM if LIMIT else np.pi*2.0\n",
    "\n",
    "engine = Engine(caption='Train', width=1280, height=720, gravity=(0, -50), joint_limit=LIMIT, \\\n",
    "               upper_angle=UPPER_LIM, lower_angle=LOWER_LIM, \\\n",
    "                linear_damping=0.0, angular_damping=0.0)\n",
    "\n",
    "# Load creature\n",
    "engine.load(FILE)\n",
    "\n",
    "# count joints and body parts\n",
    "body_count = len(engine.bodies)\n",
    "joint_count = len(engine.joints)\n",
    "\n",
    "ACTIONS = range(2**joint_count)\n",
    "\n",
    "if body_count == 0 or joint_count == 0:\n",
    "    engine.close()\n",
    "    raise RuntimeError(\"Your model doesn't have any physics bodies or joints\")\n",
    "\n",
    "def bit_on(a, bit):\n",
    "    mask = 2**bit\n",
    "    return a&mask > 0\n",
    "\n",
    "def features(time_step=0):\n",
    "    f = np.zeros([joint_count + body_count, FET_STEPS])\n",
    "    \n",
    "    for i, j in enumerate(engine.joints):\n",
    "        r = j.upperLimit - j.lowerLimit if j.limitEnabled else np.pi*2.0\n",
    "        a = j.angle % r\n",
    "        a /= r\n",
    "        a *= FET_STEPS\n",
    "        idx = int(np.floor(a))\n",
    "        f[i, idx] = 1\n",
    "    \n",
    "    for i, b in enumerate(engine.bodies):\n",
    "        # collision\n",
    "        if len(b.contacts) > 0:\n",
    "            f[joint_count + i, 0] = 1\n",
    "        else:\n",
    "            f[joint_count + i, 0] = 0\n",
    "    \n",
    "    return f, str(f)\n",
    "\n",
    "def act(action):\n",
    "    for i, j in enumerate(engine.joints):\n",
    "        j.motorSpeed = JOINT_SPEED if bit_on(action, i) else -JOINT_SPEED\n",
    "\n",
    "class State(object):\n",
    "    def __init__(self, name):\n",
    "        self.name = name\n",
    "        self.qs = np.array([[0.0 for a in ACTIONS]])\n",
    "        self.visits = 0\n",
    "        \n",
    "    def sample_action(self, eps):\n",
    "        if all(self.qs[0] == self.qs[0, 0]):\n",
    "            # all equal, random action\n",
    "            return np.random.choice(ACTIONS)\n",
    "        dist = [eps/len(ACTIONS) for a in ACTIONS]\n",
    "        dist[np.argmax(self.qs[0])] += 1.0 - eps\n",
    "        return np.random.choice(ACTIONS, p=dist)\n",
    "    \n",
    "def state(f):\n",
    "    global state_list\n",
    "    if f in states:\n",
    "        return states[f]\n",
    "    else:\n",
    "        s = State(f)\n",
    "        states[f] = s\n",
    "        state_list += [s]\n",
    "        return s\n",
    "        \n",
    "TIMESTEPS = 128 # timesteps per episode\n",
    "XP_REPLAY = True # sample memory to train qs further\n",
    "TRAIN_ITERS = 30000 # times to sample memory to update qs\n",
    "\n",
    "learning_rate = .01\n",
    "eps = .3 # 1: full exploration, 0: full exploitation\n",
    "gamma = 0.998 # discount value of future actions\n",
    "\n",
    "total_r = 0.0\n",
    "avg_r = 0.0\n",
    "episode = 0\n",
    "rs = []\n",
    "states = {}\n",
    "state_list = []\n",
    "state_matrix = np.zeros([32, 32])\n",
    "M = [] # (S, A, R, S, A) tuples\n",
    "\n",
    "speedup = False\n",
    "running = True\n",
    "interacted = False\n",
    "\n",
    "while running:\n",
    "    if not interacted:\n",
    "        rs += [total_r/TIMESTEPS]\n",
    "        \n",
    "    if len(rs) >= 100:\n",
    "        avg_r = np.sum(rs[-100:])/100.0\n",
    "        \n",
    "    # update state matrix\n",
    "    idx = 0\n",
    "    state_matrix[:] = 0.0\n",
    "    for i in range(state_matrix.shape[0]):\n",
    "        for j in range(state_matrix.shape[1]):\n",
    "            if idx < len(state_list):\n",
    "                s = state_list[idx]\n",
    "                s.i, s.j = i, j\n",
    "                state_matrix[i, j] = np.max(s.qs)\n",
    "                idx += 1\n",
    "    \n",
    "    if episode % 100 == 0:\n",
    "        clear_output(wait=True)\n",
    "        \n",
    "        if len(rs) > 1000:\n",
    "            rs = rs[-1000:]\n",
    "        \n",
    "        fig = plt.plot(rs, 'b')\n",
    "        plt.plot([0, len(rs)], [0, 0], 'r')\n",
    "        plt.show()\n",
    "        \n",
    "        # train on experience\n",
    "        avg_delta = 0\n",
    "        if len(M) > 0 and XP_REPLAY:\n",
    "            for i in range(TRAIN_ITERS):\n",
    "                xp = M[np.random.randint(0, len(M))]\n",
    "                _s0, _a0, _r, _s1, _a1 = xp\n",
    "                delta = (_r + gamma * np.max(_s1.qs) - _s0.qs[0, _a0])\n",
    "                _s0.qs[0, _a0] += learning_rate * delta\n",
    "                avg_delta += delta\n",
    "                \n",
    "            avg_delta = np.round(avg_delta / TRAIN_ITERS, 4)\n",
    "        #visits = [s.visits for s in states.values()]\n",
    "        #plt.plot(visits)\n",
    "        #plt.show()\n",
    "        num_states = len(states.keys())\n",
    "        avg_visits = np.round(np.sum([s.visits for s in states.values()]) / num_states, 3) if num_states > 0 else 0\n",
    "        print('episode: {} states: {} memories: {} avg_delta: {} eps: {} lrn_rate: {} avg_visits: {}'.format(\\\n",
    "               episode, num_states, len(M), avg_delta, eps, learning_rate, avg_visits))\n",
    "    \n",
    "    # new episode\n",
    "    engine.clear_all_but_ground()\n",
    "    engine.load(FILE)\n",
    "    engine.set_position((engine.width/2, engine.height/2))\n",
    "    \n",
    "    for j in engine.joints:\n",
    "        j.motorSpeed = np.random.randn()\n",
    "    \n",
    "    engine.step_physics(50)\n",
    "    for b in engine.bodies:\n",
    "        b.linearVelocity = (0, 0)\n",
    "        b.angularVelocity = 0\n",
    "    \n",
    "    episode += 1\n",
    "    \n",
    "    t = 0\n",
    "    total_r = 0.0\n",
    "    \n",
    "    f, sf = features()\n",
    "    s0 = state(sf)\n",
    "    a0 = s0.sample_action(eps)\n",
    "    \n",
    "    interacted = False    \n",
    "    reset = False\n",
    "    \n",
    "    while not reset:\n",
    "        \n",
    "        engine.window.dispatch_events()\n",
    "        \n",
    "        if engine.exited():\n",
    "            running = False\n",
    "            reset = True\n",
    "        \n",
    "        engine.window.clear()\n",
    "        \n",
    "        # keyboard input\n",
    "        if engine.window.pressed(key.UP):\n",
    "            eps += 0.05\n",
    "        if engine.window.pressed(key.DOWN):\n",
    "            eps -= 0.05\n",
    "        if engine.window.pressed(key.S):\n",
    "            speedup = not speedup\n",
    "            \n",
    "        eps = np.round(eps, 2)\n",
    "        if eps < 0.0:\n",
    "            eps = 0.0\n",
    "        if eps > 1.0:\n",
    "            eps = 1.0\n",
    "            \n",
    "        engine.window.reset_keys()\n",
    "        \n",
    "        if engine.window.mouse_pressed:\n",
    "            engine.create_mouse_joint()\n",
    "            interacted = True\n",
    "        else:\n",
    "            engine.destroy_mouse_joint()\n",
    "        \n",
    "        engine.update_mouse_joint()\n",
    "        \n",
    "        text = 'episode: {} avg reward: {} eps: {} states: {} memories: {}'.format(\\\n",
    "                episode, np.round(avg_r, 2), np.round(eps, 2), len(states.keys()), len(M))\n",
    "        \n",
    "        s0.visits += 1\n",
    "        \n",
    "        start_p = engine.body_position()\n",
    "        \n",
    "        act(a0)\n",
    "        \n",
    "        for i in range(10):\n",
    "            engine.step_physics(1)\n",
    "            if not speedup:\n",
    "                engine.window.clear()\n",
    "                engine.window.draw_matrices([f, s0.qs, state_matrix], recalc=False)\n",
    "                engine.window.draw_text(text)\n",
    "                engine.render()\n",
    "                engine.clock_tick()\n",
    "                \n",
    "        end_p = engine.body_position()\n",
    "        \n",
    "        # reward\n",
    "        #reward = -1\n",
    "        reward = -2 + end_p[0] - start_p[0]\n",
    "        total_r += reward\n",
    "        \n",
    "        f, sf = features()\n",
    "        s1 = state(sf)\n",
    "        a1 = s1.sample_action(eps)\n",
    "        \n",
    "        if not interacted:\n",
    "            # train\n",
    "            s0.qs[0, a0] += learning_rate * (reward + gamma * np.max(s1.qs) - s0.qs[0, a0])\n",
    "\n",
    "            # remember\n",
    "            M += [(s0, a0, reward, s1, a1)]\n",
    "                \n",
    "        if end_p[0] > engine.width/2 + 400:\n",
    "            engine.set_position((engine.width/2 - 350, end_p[1]), zero_vel=False)\n",
    "        elif end_p[0] < engine.width/2 - 400:\n",
    "            engine.set_position((engine.width/2 + 350, end_p[1]), zero_vel=False)\n",
    "        \n",
    "            \n",
    "        if not speedup:\n",
    "            engine.window.draw_matrices([f, s0.qs, state_matrix], recalc=True)\n",
    "            \n",
    "        if t > TIMESTEPS and speedup:\n",
    "            reset = True\n",
    "            if episode % 10 == 0:\n",
    "                engine.window.clear()\n",
    "                engine.window.draw_matrices([f, s0.qs, state_matrix])\n",
    "                engine.window.draw_text(text)\n",
    "                engine.render()\n",
    "        \n",
    "        t += 1\n",
    "        \n",
    "        s0 = s1\n",
    "        a0 = a1\n",
    "\n",
    "engine.close()"
   ]
  },
  {
   "cell_type": "code",
   "execution_count": 4,
   "metadata": {
    "collapsed": true
   },
   "outputs": [],
   "source": [
    "a = np.arange(8).reshape(2, 4)"
   ]
  },
  {
   "cell_type": "code",
   "execution_count": 5,
   "metadata": {
    "collapsed": false
   },
   "outputs": [
    {
     "data": {
      "text/plain": [
       "array([[0, 1, 2, 3],\n",
       "       [4, 5, 6, 7]])"
      ]
     },
     "execution_count": 5,
     "metadata": {},
     "output_type": "execute_result"
    }
   ],
   "source": [
    "a"
   ]
  },
  {
   "cell_type": "code",
   "execution_count": 6,
   "metadata": {
    "collapsed": false
   },
   "outputs": [
    {
     "data": {
      "text/plain": [
       "array([0, 1, 2, 3, 4, 5, 6, 7])"
      ]
     },
     "execution_count": 6,
     "metadata": {},
     "output_type": "execute_result"
    }
   ],
   "source": [
    "a.flatten()"
   ]
  },
  {
   "cell_type": "code",
   "execution_count": 7,
   "metadata": {
    "collapsed": false
   },
   "outputs": [
    {
     "data": {
      "text/plain": [
       "[0, 1, 2, 3, 4, 5, 6, 7]"
      ]
     },
     "execution_count": 7,
     "metadata": {},
     "output_type": "execute_result"
    }
   ],
   "source": [
    "a.flatten().data.tolist()"
   ]
  },
  {
   "cell_type": "code",
   "execution_count": null,
   "metadata": {
    "collapsed": true
   },
   "outputs": [],
   "source": []
  }
 ],
 "metadata": {
  "kernelspec": {
   "display_name": "Python 3",
   "language": "python",
   "name": "python3"
  },
  "language_info": {
   "codemirror_mode": {
    "name": "ipython",
    "version": 3
   },
   "file_extension": ".py",
   "mimetype": "text/x-python",
   "name": "python",
   "nbconvert_exporter": "python",
   "pygments_lexer": "ipython3",
   "version": "3.4.5"
  },
  "widgets": {
   "state": {},
   "version": "1.1.2"
  }
 },
 "nbformat": 4,
 "nbformat_minor": 0
}
