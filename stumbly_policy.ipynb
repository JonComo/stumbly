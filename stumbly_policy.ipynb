{
 "cells": [
  {
   "cell_type": "code",
   "execution_count": 1,
   "metadata": {
    "collapsed": false
   },
   "outputs": [],
   "source": [
    "from editor import Editor\n",
    "from Box2D.b2 import pi\n",
    "\n",
    "# edit your model by running this cell\n",
    "# to add a body part hit b and it will spawn under your mouse\n",
    "# to move body parts drag them with the mouse\n",
    "# to connect body parts, hit p to pin two bodies at the mouse location\n",
    "# to change a body part's size, click and hold, then use the arrow keys to modify width/height\n",
    "# hit 's' to save while editing to model.json\n",
    "\n",
    "editor = Editor()\n",
    "editor.load('creatures/test.json')\n",
    "editor.run()"
   ]
  },
  {
   "cell_type": "code",
   "execution_count": 4,
   "metadata": {
    "collapsed": false
   },
   "outputs": [
    {
     "data": {
      "image/png": "[encoded data removed]",
      "text/plain": [
       "<matplotlib.figure.Figure at 0x7fcd28e05438>"
      ]
     },
     "metadata": {},
     "output_type": "display_data"
    },
    {
     "name": "stdout",
     "output_type": "stream",
     "text": [
      "episode: 900 variance: 8 grads: 122\n"
     ]
    }
   ],
   "source": [
    "%matplotlib inline\n",
    "from matplotlib import pyplot as plt\n",
    "import numpy as np\n",
    "from IPython.display import clear_output\n",
    "import pygame\n",
    "from pygame.locals import (MOUSEBUTTONDOWN, MOUSEBUTTONUP, KEYDOWN, K_RIGHT, K_LEFT, K_UP, K_DOWN, K_r, K_s)\n",
    "from Box2D.b2 import pi\n",
    "from engine import Engine\n",
    "from time import sleep\n",
    "\n",
    "# train your model to (hopefully) walk by running this cell\n",
    "\n",
    "# hit s to speed up training, and s again to watch the best set of weights\n",
    "# use the up and down arrow keys to introduce more or less randomness in weight changes\n",
    "\n",
    "# this cell is an experiment with policy improvement\n",
    "# the agent's joint torques (continuous, action) are randomly sampled from means output by a neural network\n",
    "# the gradient wrt the weights of that network, for that state, are saved each time step\n",
    "# if the average reward at the end of an episode is positive, we want the agent to act more like it did\n",
    "# if the reward was negative we want it to act less like it did that episode\n",
    "\n",
    "FILE = 'creatures/two_legs.json'\n",
    "\n",
    "# Physics engine and window\n",
    "LOWER_LIM = -.1 * np.pi\n",
    "UPPER_LIM = .1 * np.pi\n",
    "LIMIT = True\n",
    "ANGLE_RANGE = UPPER_LIM - LOWER_LIM if LIMIT else np.pi*2.0\n",
    "\n",
    "engine = Engine(caption='Train', width=1280, height=720, gravity=(0, -50), joint_limit=LIMIT, \\\n",
    "               upper_angle=UPPER_LIM, lower_angle=LOWER_LIM, max_torque=10000, \\\n",
    "                linear_damping=0.0, angular_damping=0.0)\n",
    "\n",
    "# Load creature\n",
    "engine.load(FILE)\n",
    "\n",
    "# count joints and body parts\n",
    "body_count = len(engine.bodies)\n",
    "joint_count = len(engine.joints)\n",
    "\n",
    "if body_count == 0 or joint_count == 0:\n",
    "    engine.close()\n",
    "    raise RuntimeError(\"Your model doesn't have any physics bodies or joints\")\n",
    "\n",
    "def features(time_step=0):\n",
    "    f = []\n",
    "    \n",
    "    for b in engine.bodies:\n",
    "        a = b.angle % ANGLE_RANGE\n",
    "        a /= ANGLE_RANGE\n",
    "        a = a * 2.0 - 1.0\n",
    "        f += [a]\n",
    "        f += [b.angularVelocity]\n",
    "        f += [b.linearVelocity[0]]\n",
    "        f += [b.linearVelocity[1]]\n",
    "        #f += [np.sin(a)]\n",
    "        #f += [np.cos(a)]\n",
    "        f += [engine.to_screen(b.position)[0]/engine.height]\n",
    "    \n",
    "    #f += [np.sin(time_step / 2.0)] # Creature's heartbeat? :-)\n",
    "    #f += [1] # bias\n",
    "    return np.array([f])\n",
    "\n",
    "TIMESTEPS = 120 # timesteps per episode\n",
    "exploration_length = 100\n",
    "\n",
    "total_r = 0.0\n",
    "episode = 0\n",
    "\n",
    "learning_rate = .1\n",
    "variance = 8 # increase or decrease deviation from means output by nn\n",
    "scale = 0.05\n",
    "\n",
    "hdim = 32\n",
    "\n",
    "act = lambda x: np.tanh(x)\n",
    "act_p = lambda x: 1.0 - np.tanh(x)**2\n",
    "#act = lambda x: x * (x > 0)\n",
    "#act_p = lambda x: (x > 0).astype(np.float)\n",
    "\n",
    "W1 = np.random.random_sample([features().shape[1], hdim]) * scale - scale/2 # initial set of weights\n",
    "W2 = np.random.random_sample([hdim, joint_count]) * scale - scale/2 # initial set of weights\n",
    "\n",
    "bestW1 = W1.copy()\n",
    "bestW2 = W2.copy()\n",
    "\n",
    "rs = []\n",
    "grads = []\n",
    "max_r = float('-inf')\n",
    "\n",
    "g1 = np.zeros_like(W1)\n",
    "g2 = np.zeros_like(W2)\n",
    "\n",
    "speedup = False\n",
    "running = True\n",
    "interacted = False\n",
    "\n",
    "while running:\n",
    "    if not interacted:\n",
    "        rs += [total_r]\n",
    "            \n",
    "    if episode % 100 == 0:\n",
    "        clear_output(wait=True)\n",
    "        \n",
    "        if len(rs) > 1000:\n",
    "            rs = rs[-1000:]\n",
    "        fig = plt.plot(rs, 'b')\n",
    "        plt.plot([0, len(rs)], [0, 0], 'r')\n",
    "        plt.plot([0, len(rs)], [max_r, max_r], 'b')\n",
    "        plt.show()\n",
    "\n",
    "        print('episode: {} variance: {} grads: {}'.format(episode, np.round(variance, 2), len(grads)))\n",
    "    \n",
    "    if episode < exploration_length:\n",
    "        if total_r > max_r:\n",
    "            max_r = total_r\n",
    "            bestW1 = W1.copy()\n",
    "            bestW2 = W2.copy()\n",
    "        W1 = np.random.randn(features().shape[1], hdim) * scale\n",
    "        W2 = np.random.randn(hdim, joint_count) * scale\n",
    "    elif episode == exploration_length:\n",
    "        W1 = bestW1.copy()\n",
    "        W2 = bestW2.copy()\n",
    "        speedup = False\n",
    "    elif episode > exploration_length and not interacted:\n",
    "        # go through each gradient and apply\n",
    "        segment = rs[-100:]\n",
    "        r = (total_r - np.average(segment))/np.std(segment)\n",
    "        #r = np.tanh(r)\n",
    "        \n",
    "        g1[:] = 0\n",
    "        g2[:] = 0\n",
    "        \n",
    "        for grad in grads:\n",
    "            g1 += grad['g1']\n",
    "            g2 += grad['g2']\n",
    "            \n",
    "        W1 += learning_rate * g1 / float(TIMESTEPS) * r\n",
    "        W2 += learning_rate * g2 / float(TIMESTEPS) * r\n",
    "        \n",
    "        #g1 *= 0.3\n",
    "        #g2 *= 0.3\n",
    "    \n",
    "    \n",
    "    # new episode\n",
    "    engine.clear_all_but_ground()\n",
    "    engine.load(FILE)\n",
    "    \n",
    "    engine.set_position((engine.width/2, engine.height/2))\n",
    "    \n",
    "    for j in engine.joints:\n",
    "        j.motorSpeed = np.random.randn()\n",
    "    \n",
    "    engine.step_physics(50)\n",
    "    for b in engine.bodies:\n",
    "        b.linearVelocity = (0, 0)\n",
    "        b.angularVelocity = 0\n",
    "    \n",
    "    t = 0\n",
    "    total_r = 0.0\n",
    "    grads = []\n",
    "    interacted = False\n",
    "    \n",
    "    episode += 1\n",
    "    \n",
    "    reset = False\n",
    "    \n",
    "    while not reset:\n",
    "        engine.clear_screen()\n",
    "        \n",
    "        # keyboard input\n",
    "        engine.update_mouse()\n",
    "        for event in engine.events():\n",
    "            if engine.quit_event(event):\n",
    "                running = False\n",
    "                reset = True\n",
    "            if event.type == KEYDOWN:\n",
    "                k = pygame.key.get_pressed()\n",
    "                if k[K_UP]:\n",
    "                    variance += 0.1\n",
    "                elif k[K_DOWN]:\n",
    "                    variance -= 0.1\n",
    "                elif k[K_s]:\n",
    "                    speedup = not speedup\n",
    "                    if not speedup:\n",
    "                        reset = True\n",
    "                variance = max(variance, 0.1)\n",
    "            if event.type == MOUSEBUTTONDOWN:\n",
    "                engine.create_mouse_joint()\n",
    "                if engine.mouse_joint:\n",
    "                    interacted = True\n",
    "            if event.type == MOUSEBUTTONUP:\n",
    "                engine.destroy_mouse_joint()\n",
    "        \n",
    "        engine.update_mouse_joint()\n",
    "        \n",
    "        x = features(t)\n",
    "        z1 = x.dot(W1)\n",
    "        h1 = act(z1)\n",
    "        z2 = h1.dot(W2)\n",
    "        \n",
    "        #torques = z2 + np.random.randn(z2.shape[0], z2.shape[1]) * variance\n",
    "        torques = np.array([np.random.normal(loc=u, scale=np.sqrt(variance)) for u in z2[0]])\n",
    "        \n",
    "        start_p = engine.body_position()\n",
    "        \n",
    "        for i, j in enumerate(engine.joints):\n",
    "            j.motorSpeed = torques[i]\n",
    "        \n",
    "        #for i in range(1):\n",
    "        engine.step_physics(1)\n",
    "        #if not speedup:\n",
    "        #    engine.clear_screen()\n",
    "        #    engine.render()\n",
    "        #    engine.clock_tick()\n",
    "        \n",
    "        end_p = engine.body_position()\n",
    "        \n",
    "        # reward\n",
    "        #reward = np.average([engine.to_screen(b.position)[0]/engine.width - .5 for b in engine.bodies])\n",
    "        reward = (end_p[0] - start_p[0])\n",
    "        #reward += _p[1] - end_p[1]\n",
    "        #reward = 1 if end_p[0] > start_p[0] else 0\n",
    "        #reward = 1.0 - np.average([engine.to_screen(b.position)[1]/engine.height for b in engine.bodies])\n",
    "\n",
    "        total_r += reward\n",
    "        \n",
    "        if abs(end_p[0] - engine.width/2) > 400:\n",
    "            engine.set_position((engine.width/2, end_p[1]), zero_vel=False)\n",
    "        \n",
    "        # grad\n",
    "        if episode > exploration_length:\n",
    "            delta = (torques - z2) / variance\n",
    "            g2 = np.multiply(h1.T, delta)\n",
    "            dh1 = W2.dot(delta.T).T\n",
    "            dz1 = np.multiply(dh1, act_p(z1))\n",
    "            g1 = np.multiply(x.T, dz1)\n",
    "            \n",
    "            grad = {'g1': g1, 'g2': g2}\n",
    "            grads += [grad]\n",
    "        \n",
    "        if t > TIMESTEPS and speedup:\n",
    "            reset = True\n",
    "            engine.render()\n",
    "        \n",
    "        if not speedup:\n",
    "            engine.render()\n",
    "            engine.clock_tick()\n",
    "\n",
    "        # prepare for next rounds\n",
    "        t += 1\n",
    "\n",
    "engine.close()"
   ]
  },
  {
   "cell_type": "code",
   "execution_count": 75,
   "metadata": {
    "collapsed": false
   },
   "outputs": [
    {
     "data": {
      "text/plain": [
       "<matplotlib.colorbar.Colorbar at 0x7f080ce3cd30>"
      ]
     },
     "execution_count": 75,
     "metadata": {},
     "output_type": "execute_result"
    },
    {
     "data": {
      "image/png": "[encoded data removed]",
      "text/plain": [
       "<matplotlib.figure.Figure at 0x7f080cfb6320>"
      ]
     },
     "metadata": {},
     "output_type": "display_data"
    }
   ],
   "source": [
    "plt.imshow(W1, interpolation='nearest', cmap=plt.cm.viridis)\n",
    "plt.colorbar()"
   ]
  },
  {
   "cell_type": "code",
   "execution_count": 74,
   "metadata": {
    "collapsed": false
   },
   "outputs": [
    {
     "data": {
      "text/plain": [
       "<matplotlib.colorbar.Colorbar at 0x7f080d1eaa90>"
      ]
     },
     "execution_count": 74,
     "metadata": {},
     "output_type": "execute_result"
    },
    {
     "data": {
      "image/png": "[encoded data removed]",
      "text/plain": [
       "<matplotlib.figure.Figure at 0x7f080cf2b2b0>"
      ]
     },
     "metadata": {},
     "output_type": "display_data"
    }
   ],
   "source": [
    "plt.imshow(W2, interpolation='nearest', cmap=plt.cm.viridis)\n",
    "plt.colorbar()"
   ]
  },
  {
   "cell_type": "code",
   "execution_count": null,
   "metadata": {
    "collapsed": true
   },
   "outputs": [],
   "source": []
  }
 ],
 "metadata": {
  "kernelspec": {
   "display_name": "Python 3",
   "language": "python",
   "name": "python3"
  },
  "language_info": {
   "codemirror_mode": {
    "name": "ipython",
    "version": 3
   },
   "file_extension": ".py",
   "mimetype": "text/x-python",
   "name": "python",
   "nbconvert_exporter": "python",
   "pygments_lexer": "ipython3",
   "version": "3.4.5"
  },
  "widgets": {
   "state": {},
   "version": "1.1.2"
  }
 },
 "nbformat": 4,
 "nbformat_minor": 0
}
