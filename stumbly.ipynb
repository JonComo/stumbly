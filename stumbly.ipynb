{
 "cells": [
  {
   "cell_type": "code",
   "execution_count": 5,
   "metadata": {
    "collapsed": false
   },
   "outputs": [
    {
     "name": "stdout",
     "output_type": "stream",
     "text": [
      "File loaded: model.json\n"
     ]
    }
   ],
   "source": [
    "from editor import Editor\n",
    "\n",
    "# edit your model by running this cell\n",
    "# hit 's' to save while editing to model.json\n",
    "\n",
    "editor = Editor('model.json')"
   ]
  },
  {
   "cell_type": "code",
   "execution_count": 2,
   "metadata": {
    "collapsed": false
   },
   "outputs": [],
   "source": [
    "import numpy as np\n",
    "from IPython.display import clear_output\n",
    "\n",
    "import pygame\n",
    "from pygame.locals import (KEYDOWN, K_RIGHT, K_LEFT, K_r, K_s)\n",
    "\n",
    "from agent import Agent\n",
    "from engine import Engine\n",
    "\n",
    "# train your model to (hopefully) walk by running this cell\n",
    "\n",
    "# RL Constants\n",
    "GAMMA = 0.98 # discount factor\n",
    "\n",
    "# Physics engine and window\n",
    "engine = Engine(caption='Train', width=1280, height=720)\n",
    "\n",
    "# Add floor\n",
    "engine.add_static_body(p=(engine.width/2, engine.height-10), size=(engine.width, 10))\n",
    "\n",
    "agent = Agent(features=3, actions=4)\n",
    "agent.eps = .1\n",
    "\n",
    "speedup = False\n",
    "running = True\n",
    "while running:\n",
    "    #body.zero_linear_velocity()\n",
    "    #body.set_position((SCREEN_WIDTH/2, SCREEN_HEIGHT/2 + 100))\n",
    "    \n",
    "    #last_x = body.position()[0]\n",
    "    \n",
    "    #s1 = body.state()\n",
    "    #q1 = agent.q_approx(s1)\n",
    "    #a1 = agent.sample_action(q1)\n",
    "    \n",
    "    reset = False\n",
    "    while not reset:\n",
    "        for event in engine.events():\n",
    "            if engine.quit_event(event):\n",
    "                running = False\n",
    "                reset = True\n",
    "            if event.type == KEYDOWN:\n",
    "                k = pygame.key.get_pressed()\n",
    "                if k[K_RIGHT]:\n",
    "                    agent.eps += .1\n",
    "                elif k[K_LEFT]:\n",
    "                    agent.eps -= .1\n",
    "                elif k[K_r]:\n",
    "                    agent.reset()\n",
    "                elif k[K_s]:\n",
    "                    speedup = not speedup\n",
    "\n",
    "        # build xp tuple\n",
    "        #xp = {'s1': s1.copy(), 'a1': a1}\n",
    "\n",
    "        # act a1\n",
    "        #body.act(a1)\n",
    "        \n",
    "        # step physics engine multiple times\n",
    "        engine.step_physics(5)\n",
    "\n",
    "        # reward\n",
    "        #reward = body.position()[0] - last_x\n",
    "        #reward *= -1\n",
    "        #xp['r'] = reward\n",
    "\n",
    "        # state2\n",
    "        #s2 = body.state()\n",
    "        #q2 = agent.q_approx(s2)\n",
    "        # sample action 2\n",
    "        #a2 = agent.sample_action(q2)\n",
    "\n",
    "        #xp['s2'] = s2.copy()\n",
    "        #xp['a2'] = a2\n",
    "\n",
    "        #agent.memorize(xp)\n",
    "        #agent.train(10)\n",
    "        \n",
    "        if not speedup:\n",
    "            clear_output(wait=True)\n",
    "            #print('s1: {} avg_r: {} eps: {} memories: {}\\nqs: {}\\nadvantage: {}'\\\n",
    "            #      .format(s1, np.round(agent.avg_r, 1), agent.eps, len(agent.M), q2, advantage))\n",
    "            engine.render()\n",
    "            engine.clock_tick()\n",
    "\n",
    "        # prepare for next rounds\n",
    "        #s1 = s2\n",
    "        #a1 = a2\n",
    "        #last_x = body.position()[0]\n",
    "\n",
    "        #if body.position()[0] > SCREEN_WIDTH or body.position()[0] < 0:\n",
    "        #    reset = True\n",
    "\n",
    "engine.close()"
   ]
  },
  {
   "cell_type": "raw",
   "metadata": {},
   "source": []
  },
  {
   "cell_type": "code",
   "execution_count": 2,
   "metadata": {
    "collapsed": true
   },
   "outputs": [],
   "source": [
    "import pygame"
   ]
  },
  {
   "cell_type": "code",
   "execution_count": 4,
   "metadata": {
    "collapsed": false
   },
   "outputs": [
    {
     "data": {
      "text/plain": [
       "'1.9.2.dev1'"
      ]
     },
     "execution_count": 4,
     "metadata": {},
     "output_type": "execute_result"
    }
   ],
   "source": [
    "pygame.version.ver"
   ]
  },
  {
   "cell_type": "code",
   "execution_count": null,
   "metadata": {
    "collapsed": true
   },
   "outputs": [],
   "source": []
  },
  {
   "cell_type": "code",
   "execution_count": null,
   "metadata": {
    "collapsed": true
   },
   "outputs": [],
   "source": []
  },
  {
   "cell_type": "code",
   "execution_count": null,
   "metadata": {
    "collapsed": true
   },
   "outputs": [],
   "source": []
  },
  {
   "cell_type": "code",
   "execution_count": null,
   "metadata": {
    "collapsed": true
   },
   "outputs": [],
   "source": []
  },
  {
   "cell_type": "code",
   "execution_count": null,
   "metadata": {
    "collapsed": true
   },
   "outputs": [],
   "source": []
  },
  {
   "cell_type": "code",
   "execution_count": null,
   "metadata": {
    "collapsed": true
   },
   "outputs": [],
   "source": []
  },
  {
   "cell_type": "code",
   "execution_count": null,
   "metadata": {
    "collapsed": true
   },
   "outputs": [],
   "source": []
  },
  {
   "cell_type": "code",
   "execution_count": null,
   "metadata": {
    "collapsed": true
   },
   "outputs": [],
   "source": []
  },
  {
   "cell_type": "code",
   "execution_count": null,
   "metadata": {
    "collapsed": true
   },
   "outputs": [],
   "source": []
  },
  {
   "cell_type": "code",
   "execution_count": null,
   "metadata": {
    "collapsed": true
   },
   "outputs": [],
   "source": []
  },
  {
   "cell_type": "code",
   "execution_count": null,
   "metadata": {
    "collapsed": true
   },
   "outputs": [],
   "source": []
  },
  {
   "cell_type": "code",
   "execution_count": null,
   "metadata": {
    "collapsed": true
   },
   "outputs": [],
   "source": []
  },
  {
   "cell_type": "code",
   "execution_count": null,
   "metadata": {
    "collapsed": true
   },
   "outputs": [],
   "source": []
  },
  {
   "cell_type": "code",
   "execution_count": null,
   "metadata": {
    "collapsed": true
   },
   "outputs": [],
   "source": []
  },
  {
   "cell_type": "code",
   "execution_count": null,
   "metadata": {
    "collapsed": true
   },
   "outputs": [],
   "source": []
  }
 ],
 "metadata": {
  "kernelspec": {
   "display_name": "Python 3",
   "language": "python",
   "name": "python3"
  },
  "language_info": {
   "codemirror_mode": {
    "name": "ipython",
    "version": 3
   },
   "file_extension": ".py",
   "mimetype": "text/x-python",
   "name": "python",
   "nbconvert_exporter": "python",
   "pygments_lexer": "ipython3",
   "version": "3.4.5"
  },
  "widgets": {
   "state": {},
   "version": "1.1.2"
  }
 },
 "nbformat": 4,
 "nbformat_minor": 0
}
