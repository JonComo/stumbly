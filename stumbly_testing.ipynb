{
 "cells": [
  {
   "cell_type": "code",
   "execution_count": 6,
   "metadata": {
    "collapsed": false
   },
   "outputs": [
    {
     "name": "stdout",
     "output_type": "stream",
     "text": [
      "File loaded: crawler.json\n",
      "File saved as: crawler.json\n"
     ]
    }
   ],
   "source": [
    "from editor import Editor\n",
    "from Box2D.b2 import pi\n",
    "\n",
    "# edit your model by running this cell\n",
    "# hit 's' to save while editing to model.json\n",
    "\n",
    "editor = Editor()\n",
    "editor.load('crawler.json')\n",
    "editor.run()"
   ]
  },
  {
   "cell_type": "code",
   "execution_count": 1,
   "metadata": {
    "collapsed": false
   },
   "outputs": [
    {
     "name": "stdout",
     "output_type": "stream",
     "text": [
      "533\n"
     ]
    },
    {
     "ename": "KeyboardInterrupt",
     "evalue": "",
     "output_type": "error",
     "traceback": [
      "\u001b[0;31m---------------------------------------------------------------------------\u001b[0m",
      "\u001b[0;31mKeyboardInterrupt\u001b[0m                         Traceback (most recent call last)",
      "\u001b[0;32m<ipython-input-1-ced9c506fc71>\u001b[0m in \u001b[0;36m<module>\u001b[0;34m()\u001b[0m\n\u001b[1;32m    172\u001b[0m             \u001b[0mprint\u001b[0m\u001b[0;34m(\u001b[0m\u001b[0mt\u001b[0m\u001b[0;34m)\u001b[0m\u001b[0;34m\u001b[0m\u001b[0m\n\u001b[1;32m    173\u001b[0m             \u001b[0mengine\u001b[0m\u001b[0;34m.\u001b[0m\u001b[0mrender\u001b[0m\u001b[0;34m(\u001b[0m\u001b[0;34m)\u001b[0m\u001b[0;34m\u001b[0m\u001b[0m\n\u001b[0;32m--> 174\u001b[0;31m             \u001b[0mengine\u001b[0m\u001b[0;34m.\u001b[0m\u001b[0mclock_tick\u001b[0m\u001b[0;34m(\u001b[0m\u001b[0;34m)\u001b[0m\u001b[0;34m\u001b[0m\u001b[0m\n\u001b[0m\u001b[1;32m    175\u001b[0m             \u001b[0;31m#fig = plt.plot(a2)\u001b[0m\u001b[0;34m\u001b[0m\u001b[0;34m\u001b[0m\u001b[0m\n\u001b[1;32m    176\u001b[0m             \u001b[0;31m#plt.show()\u001b[0m\u001b[0;34m\u001b[0m\u001b[0;34m\u001b[0m\u001b[0m\n",
      "\u001b[0;32m/home/jon/research/ml/rl/physics/stumbly/engine.py\u001b[0m in \u001b[0;36mclock_tick\u001b[0;34m(self)\u001b[0m\n\u001b[1;32m     98\u001b[0m \u001b[0;34m\u001b[0m\u001b[0m\n\u001b[1;32m     99\u001b[0m     \u001b[0;32mdef\u001b[0m \u001b[0mclock_tick\u001b[0m\u001b[0;34m(\u001b[0m\u001b[0mself\u001b[0m\u001b[0;34m)\u001b[0m\u001b[0;34m:\u001b[0m\u001b[0;34m\u001b[0m\u001b[0m\n\u001b[0;32m--> 100\u001b[0;31m         \u001b[0mself\u001b[0m\u001b[0;34m.\u001b[0m\u001b[0mclock\u001b[0m\u001b[0;34m.\u001b[0m\u001b[0mtick\u001b[0m\u001b[0;34m(\u001b[0m\u001b[0mself\u001b[0m\u001b[0;34m.\u001b[0m\u001b[0mfps\u001b[0m\u001b[0;34m)\u001b[0m\u001b[0;34m\u001b[0m\u001b[0m\n\u001b[0m\u001b[1;32m    101\u001b[0m \u001b[0;34m\u001b[0m\u001b[0m\n\u001b[1;32m    102\u001b[0m     \u001b[0;32mdef\u001b[0m \u001b[0mclose\u001b[0m\u001b[0;34m(\u001b[0m\u001b[0mself\u001b[0m\u001b[0;34m)\u001b[0m\u001b[0;34m:\u001b[0m\u001b[0;34m\u001b[0m\u001b[0m\n",
      "\u001b[0;31mKeyboardInterrupt\u001b[0m: "
     ]
    }
   ],
   "source": [
    "%matplotlib inline\n",
    "from matplotlib import pyplot as plt\n",
    "\n",
    "import numpy as np\n",
    "from IPython.display import clear_output\n",
    "\n",
    "import pygame\n",
    "from pygame.locals import (KEYDOWN, K_RIGHT, K_LEFT, K_r, K_s, K_r)\n",
    "\n",
    "from Box2D.b2 import pi\n",
    "\n",
    "from agent import Agent\n",
    "from engine import Engine\n",
    "\n",
    "from time import sleep\n",
    "\n",
    "# train your model to (hopefully) walk by running this cell\n",
    "FILE = 'star.json'\n",
    "\n",
    "# Physics engine and window\n",
    "LOWER_LIM = -.4 * np.pi\n",
    "UPPER_LIM = .4 * np.pi\n",
    "LIMIT = False\n",
    "ANGLE_RANGE = UPPER_LIM - LOWER_LIM if LIMIT else np.pi*2.0\n",
    "engine = Engine(caption='Train', width=1280, height=720, gravity=(0, -50), joint_limit=LIMIT, \\\n",
    "               upper_angle=UPPER_LIM, lower_angle=LOWER_LIM, linear_damping=0.0, angular_damping=0)\n",
    "\n",
    "engine.load(FILE)\n",
    "\n",
    "# Add floor\n",
    "engine.add_static_body(p=(engine.width/2, engine.height-10), size=(engine.width, 10))\n",
    "\n",
    "# Features\n",
    "ENCODING_SIZE = 32 # buckets for body angles\n",
    "\n",
    "def features():\n",
    "    f = []\n",
    "    \n",
    "    for b in engine.world.bodies:\n",
    "        if b.userData and isinstance(b.userData, dict):\n",
    "            a = b.angle % ANGLE_RANGE\n",
    "            a /= ANGLE_RANGE\n",
    "            a = int(a * ENCODING_SIZE)\n",
    "            encoding = [0] * ENCODING_SIZE\n",
    "            encoding[a] = 1.0\n",
    "            f.extend(encoding)\n",
    "    \n",
    "    \"\"\"\n",
    "    for b in engine.world.bodies:\n",
    "        if b.userData and isinstance(b.userData, dict):\n",
    "            a = b.angle % ANGLE_RANGE\n",
    "            a /= ANGLE_RANGE\n",
    "            a = a * 2.0 - 1.0\n",
    "            f.append(a)\"\"\"\n",
    "            \n",
    "    #for j in engine.world.joints:\n",
    "    #    f.append(j.motorSpeed)\n",
    "                \n",
    "    return np.array([f])\n",
    "\n",
    "# all joints change\n",
    "def act(torques):\n",
    "    # torques list of engine torques\n",
    "    # joint config:\n",
    "    for i, t in enumerate(torques):\n",
    "        engine.world.joints[i].motorSpeed = t\n",
    "    \n",
    "def body_position():\n",
    "    avg = np.zeros([2])\n",
    "    cnt = 0\n",
    "    for b in engine.world.bodies:\n",
    "        if b.userData:\n",
    "            avg += [b.position[0], b.position[1]]\n",
    "            cnt += 1\n",
    "    avg /= cnt\n",
    "    return engine.to_screen(avg)\n",
    "\n",
    "def set_position(position, zero_vel=True):\n",
    "    current = engine.to_pybox2d(body_position())\n",
    "    position = engine.to_pybox2d(position)\n",
    "    shift = (position[0] - current[0], position[1] - current[1])\n",
    "    for b in engine.world.bodies:\n",
    "        if b.userData:\n",
    "            if zero_vel:\n",
    "                b.linearVelocity = (0, 0)\n",
    "                b.angularVelocity = 0\n",
    "            b.position = (b.position[0] + shift[0], b.position[1] + shift[1])\n",
    "\n",
    "body_count = len(engine.world.bodies) - 1\n",
    "joint_count = len(engine.world.joints)\n",
    "action_count = 2**joint_count\n",
    "\n",
    "if body_count == 0 or joint_count == 0:\n",
    "    engine.close()\n",
    "    raise ValueError(\"Your model doesn't have any physics bodies or joints\")\n",
    "\n",
    "W = np.random.randn(features().shape[1], joint_count)\n",
    "def torques(state):\n",
    "    return np.tanh(state.dot(W))\n",
    "\n",
    "rs = []\n",
    "avg_r = 0.0\n",
    "\n",
    "speedup = False\n",
    "running = True\n",
    "while running:\n",
    "    \n",
    "    # train\n",
    "    clear_output(wait=True)\n",
    "    fig = plt.plot(rs, 'b')\n",
    "    plt.plot([0, len(rs)], [0, 0], 'r')\n",
    "    plt.show()\n",
    "    sleep(1)\n",
    "        \n",
    "    t = 0\n",
    "    \n",
    "    engine.clear_all_but_ground()\n",
    "    engine.load(FILE)\n",
    "    \n",
    "    last_x = body_position()[0]\n",
    "    \n",
    "    s1 = features()\n",
    "    a1 = torques(s1)[0]\n",
    "    \n",
    "    reset = False\n",
    "    while not reset:\n",
    "        for event in engine.events():\n",
    "            if engine.quit_event(event):\n",
    "                running = False\n",
    "                reset = True\n",
    "            if event.type == KEYDOWN:\n",
    "                k = pygame.key.get_pressed()\n",
    "                if k[K_RIGHT]:\n",
    "                    agent.eps += .1\n",
    "                elif k[K_LEFT]:\n",
    "                    agent.eps -= .1\n",
    "                elif k[K_r]:\n",
    "                    reset = True\n",
    "                elif k[K_s]:\n",
    "                    speedup = not speedup\n",
    "\n",
    "        # build xp tuple\n",
    "        xp = {'s1': s1.copy(), 'a1': a1.copy()}\n",
    "\n",
    "        # act a1\n",
    "        act(a1)\n",
    "        \n",
    "        # step physics engine multiple times\n",
    "        engine.step_physics(1)\n",
    "\n",
    "        # reward move right relative\n",
    "        reward = body_position()[0] - last_x\n",
    "        #reward *= -1\n",
    "        \n",
    "        xp['r'] = reward\n",
    "        \n",
    "        # train neural network\n",
    "        W *= 0.99998\n",
    "        W += np.multiply(s1.T, a1) * reward * .05\n",
    "        \n",
    "        avg_r += .001 * (reward - avg_r)\n",
    "        rs.append(avg_r)\n",
    "                             \n",
    "        # state2\n",
    "        s2 = features()\n",
    "        a2 = torques(s2)[0]\n",
    "\n",
    "        xp['s2'] = s2.copy()\n",
    "        xp['a2'] = a2.copy()\n",
    "        \n",
    "        if not speedup:\n",
    "            clear_output(wait=True)\n",
    "            print(t)\n",
    "            engine.render()\n",
    "            engine.clock_tick()\n",
    "            #fig = plt.plot(a2)\n",
    "            #plt.show()\n",
    "\n",
    "        # prepare for next rounds\n",
    "        s1 = s2\n",
    "        a1 = a2\n",
    "        last_x = body_position()[0]\n",
    "        t += 1\n",
    "\n",
    "        if last_x > engine.width-50.0 or last_x < 50.0:\n",
    "            reset = True\n",
    "            engine.render()\n",
    "            engine.clock_tick()\n",
    "\n",
    "engine.close()"
   ]
  },
  {
   "cell_type": "code",
   "execution_count": null,
   "metadata": {
    "collapsed": true
   },
   "outputs": [],
   "source": [
    "features -> motor_torques\n",
    "\n",
    "gradient is full product * reward"
   ]
  },
  {
   "cell_type": "code",
   "execution_count": 3,
   "metadata": {
    "collapsed": false
   },
   "outputs": [
    {
     "data": {
      "image/png": "[encoded data removed]",
      "text/plain": [
       "<matplotlib.figure.Figure at 0x7ff855c1e1d0>"
      ]
     },
     "metadata": {},
     "output_type": "display_data"
    }
   ],
   "source": [
    "fig = plt.imshow(W)"
   ]
  },
  {
   "cell_type": "code",
   "execution_count": null,
   "metadata": {
    "collapsed": true
   },
   "outputs": [],
   "source": []
  }
 ],
 "metadata": {
  "kernelspec": {
   "display_name": "Python 3",
   "language": "python",
   "name": "python3"
  },
  "language_info": {
   "codemirror_mode": {
    "name": "ipython",
    "version": 3
   },
   "file_extension": ".py",
   "mimetype": "text/x-python",
   "name": "python",
   "nbconvert_exporter": "python",
   "pygments_lexer": "ipython3",
   "version": "3.4.5"
  },
  "widgets": {
   "state": {},
   "version": "1.1.2"
  }
 },
 "nbformat": 4,
 "nbformat_minor": 0
}
