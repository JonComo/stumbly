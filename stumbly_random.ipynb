{
 "cells": [
  {
   "cell_type": "code",
   "execution_count": 3,
   "metadata": {
    "collapsed": false
   },
   "outputs": [
    {
     "name": "stdout",
     "output_type": "stream",
     "text": [
      "File saved as: human.json\n"
     ]
    }
   ],
   "source": [
    "from editor import Editor\n",
    "from Box2D.b2 import pi\n",
    "\n",
    "# edit your model by running this cell\n",
    "# hit 's' to save while editing to model.json\n",
    "\n",
    "editor = Editor()\n",
    "editor.load('human.json')\n",
    "editor.run()"
   ]
  },
  {
   "cell_type": "code",
   "execution_count": 1,
   "metadata": {
    "collapsed": false
   },
   "outputs": [
    {
     "name": "stdout",
     "output_type": "stream",
     "text": [
      "multiplier: 0.8\n"
     ]
    },
    {
     "data": {
      "image/png": "[encoded data removed]",
      "text/plain": [
       "<matplotlib.figure.Figure at 0x7fccf045dda0>"
      ]
     },
     "metadata": {},
     "output_type": "display_data"
    },
    {
     "name": "stdout",
     "output_type": "stream",
     "text": [
      "File loaded: human.json\n"
     ]
    }
   ],
   "source": [
    "%matplotlib inline\n",
    "from matplotlib import pyplot as plt\n",
    "import numpy as np\n",
    "from IPython.display import clear_output\n",
    "import pygame\n",
    "from pygame.locals import (KEYDOWN, K_RIGHT, K_LEFT, K_r, K_s)\n",
    "from Box2D.b2 import pi\n",
    "from engine import Engine\n",
    "from time import sleep\n",
    "\n",
    "# train your model to (hopefully) walk by running this cell\n",
    "FILE = 'human.json'\n",
    "\n",
    "TIMESTEPS = 120 # timesteps per episode\n",
    "\n",
    "# Physics engine and window\n",
    "LOWER_LIM = -.2 * np.pi\n",
    "UPPER_LIM = .2 * np.pi\n",
    "LIMIT = True\n",
    "\n",
    "ANGLE_RANGE = UPPER_LIM - LOWER_LIM if LIMIT else np.pi*2.0\n",
    "engine = Engine(caption='Train', width=800, height=600, gravity=(0, -50), joint_limit=LIMIT, \\\n",
    "               upper_angle=UPPER_LIM, lower_angle=LOWER_LIM, linear_damping=0.0, angular_damping=0.0)\n",
    "\n",
    "engine.load(FILE)\n",
    "\n",
    "# Add floor\n",
    "engine.add_static_body(p=(engine.width/2, engine.height-10), size=(engine.width, 10))\n",
    "\n",
    "# Features\n",
    "ENCODING_SIZE = 32 # buckets for body angles\n",
    "\n",
    "def features(time_step=0):\n",
    "    f = []\n",
    "\n",
    "    for b in engine.world.bodies:\n",
    "        if b.userData and isinstance(b.userData, dict):\n",
    "            a = b.angle % ANGLE_RANGE\n",
    "            a /= ANGLE_RANGE\n",
    "            a = a * 2.0 - 1.0\n",
    "            f += [a]\n",
    "            \n",
    "    #f += [float(time_step/TIMESTEPS * 2.0 - 1.0)]\n",
    "    #f += [np.sin(time_step * 2.0)]\n",
    "    #f += [np.sin(time_step)]\n",
    "    #f += [np.sin(time_step/2.0)]\n",
    "            \n",
    "    #for j in engine.world.joints:\n",
    "    #    f.append(j.motorSpeed)\n",
    "                \n",
    "    return np.array([f])\n",
    "    \n",
    "def body_position():\n",
    "    avg = np.zeros([2])\n",
    "    cnt = 0\n",
    "    for b in engine.world.bodies:\n",
    "        if b.userData:\n",
    "            avg += [b.position[0], b.position[1]]\n",
    "            cnt += 1\n",
    "    avg /= cnt\n",
    "    return engine.to_screen(avg)\n",
    "\n",
    "def set_position(position, zero_vel=True):\n",
    "    current = engine.to_pybox2d(body_position())\n",
    "    position = engine.to_pybox2d(position)\n",
    "    shift = (position[0] - current[0], position[1] - current[1])\n",
    "    for b in engine.world.bodies:\n",
    "        if b.userData:\n",
    "            if zero_vel:\n",
    "                b.linearVelocity = (0, 0)\n",
    "                b.angularVelocity = 0\n",
    "            b.position = (b.position[0] + shift[0], b.position[1] + shift[1])\n",
    "\n",
    "body_count = len(engine.world.bodies) - 1\n",
    "joint_count = len(engine.world.joints)\n",
    "\n",
    "if body_count == 0 or joint_count == 0:\n",
    "    engine.close()\n",
    "    raise RuntimeError(\"Your model doesn't have any physics bodies or joints\")\n",
    "\n",
    "rs = []\n",
    "avg_r = 0.0\n",
    "total_r = 0.0\n",
    "max_r = float('-inf')\n",
    "\n",
    "multiplier = .8\n",
    "\n",
    "HIDDEN = 256\n",
    "best_W1 = None\n",
    "best_W2 = None\n",
    "W1 = None\n",
    "W2 = None\n",
    "\n",
    "def init_W():\n",
    "    global best_W1, best_W2, W1, W2\n",
    "    best_W1 = np.random.randn(features().shape[1], HIDDEN) * 1.0\n",
    "    best_W2 = np.random.randn(HIDDEN, joint_count) * 1.0\n",
    "\n",
    "    W1 = best_W1.copy()\n",
    "    W2 = best_W2.copy()\n",
    "    \n",
    "init_W()\n",
    "\n",
    "def relu(x):\n",
    "    return x * (x > 0)\n",
    "\n",
    "def dropout_relu(x, percent):\n",
    "    x *= np.random.binomial([np.ones((x.shape[0], x.shape[1]))],1-percent)[0] * (1.0/(1-percent))\n",
    "    return relu(x)\n",
    "\n",
    "def act_W(features, speedup):\n",
    "    z1 = features.dot(W1) if speedup else features.dot(best_W1)\n",
    "    h1 = relu(z1)\n",
    "    z2 = h1.dot(W2) if speedup else h1.dot(best_W2)\n",
    "    z2 = np.tanh(z2)\n",
    "    #z2 += np.random.randn(z2.shape[0], z2.shape[1]) * 0.1\n",
    "    \n",
    "    for i, j in enumerate(engine.world.joints):\n",
    "        j.motorSpeed = z2[0, i]\n",
    "\n",
    "speedup = False\n",
    "running = True\n",
    "while running:\n",
    "    \n",
    "    # train\n",
    "    clear_output(wait=True)\n",
    "    print('multiplier: {}'.format(np.round(multiplier, 2)))\n",
    "    \n",
    "    rs.append(total_r)\n",
    "    \n",
    "    fig = plt.plot(rs, 'b')\n",
    "    plt.plot([0, len(rs)], [0, 0], 'r')\n",
    "    plt.show()\n",
    "\n",
    "    if total_r > max_r:\n",
    "        max_r = total_r\n",
    "        # save this model\n",
    "        print('new best')\n",
    "        best_W1 = W1.copy()\n",
    "        best_W2 = W2.copy()\n",
    "\n",
    "    W1 = best_W1.copy() * .8 + np.random.randn(best_W1.shape[0], best_W1.shape[1]) * multiplier\n",
    "    W2 = best_W2.copy() * .8 + np.random.randn(best_W2.shape[0], best_W2.shape[1]) * multiplier\n",
    "    \n",
    "    if len(rs) > 100:\n",
    "        rs = rs[1:]\n",
    "\n",
    "    # timesteps\n",
    "    t = 0\n",
    "    total_r = 0.0\n",
    "    \n",
    "    engine.clear_all_but_ground()\n",
    "    engine.load(FILE)\n",
    "    \n",
    "    set_position((engine.width/2, engine.height/2))\n",
    "    engine.step_physics(10)\n",
    "    for b in engine.world.bodies:\n",
    "        b.linearVelocity = (0, 0)\n",
    "        b.angularVelocity = 0\n",
    "        \n",
    "    \n",
    "    last_p = body_position()\n",
    "    \n",
    "    reset = False\n",
    "    while not reset:\n",
    "        for event in engine.events():\n",
    "            if engine.quit_event(event):\n",
    "                running = False\n",
    "                reset = True\n",
    "            if event.type == KEYDOWN:\n",
    "                k = pygame.key.get_pressed()\n",
    "                if k[K_r]:\n",
    "                    init_W()\n",
    "                elif k[K_RIGHT]:\n",
    "                    multiplier += 0.1\n",
    "                elif k[K_LEFT]:\n",
    "                    multiplier -= 0.1\n",
    "                elif k[K_s]:\n",
    "                    speedup = not speedup\n",
    "                multiplier = max(min(multiplier, 3), 0)\n",
    "        \n",
    "        act_W(features(t), speedup)\n",
    "        \n",
    "        # step physics engine n times\n",
    "        for i in range(5):\n",
    "            engine.step_physics(1)\n",
    "            if not speedup:\n",
    "                engine.render()\n",
    "                engine.clock_tick()\n",
    "        \n",
    "        \n",
    "        # reward\n",
    "        new_p = body_position()\n",
    "        \n",
    "        reward = (engine.height - new_p[1]) / engine.height # stay high\n",
    "        #reward += new_p[0] / engine.width\n",
    "        \n",
    "        total_r += reward\n",
    "        \n",
    "        avg_r += .001 * (reward - avg_r)\n",
    "        #rs.append(avg_r)\n",
    "                             \n",
    "        if t > TIMESTEPS:\n",
    "            reset = True\n",
    "        \n",
    "        if not speedup:\n",
    "            engine.render()\n",
    "            engine.clock_tick()\n",
    "\n",
    "        # prepare for next rounds\n",
    "        last_p = body_position()\n",
    "        t += 1\n",
    "\n",
    "        if last_p[0] > engine.width-50.0 or last_p[0] < 50.0:\n",
    "            reset = True\n",
    "            engine.render()\n",
    "            engine.clock_tick()\n",
    "\n",
    "engine.close()"
   ]
  },
  {
   "cell_type": "code",
   "execution_count": null,
   "metadata": {
    "collapsed": true
   },
   "outputs": [],
   "source": []
  },
  {
   "cell_type": "code",
   "execution_count": null,
   "metadata": {
    "collapsed": true
   },
   "outputs": [],
   "source": []
  },
  {
   "cell_type": "code",
   "execution_count": null,
   "metadata": {
    "collapsed": true
   },
   "outputs": [],
   "source": []
  },
  {
   "cell_type": "code",
   "execution_count": null,
   "metadata": {
    "collapsed": true
   },
   "outputs": [],
   "source": []
  },
  {
   "cell_type": "code",
   "execution_count": null,
   "metadata": {
    "collapsed": true
   },
   "outputs": [],
   "source": []
  },
  {
   "cell_type": "code",
   "execution_count": null,
   "metadata": {
    "collapsed": true
   },
   "outputs": [],
   "source": []
  },
  {
   "cell_type": "code",
   "execution_count": null,
   "metadata": {
    "collapsed": true
   },
   "outputs": [],
   "source": []
  },
  {
   "cell_type": "code",
   "execution_count": null,
   "metadata": {
    "collapsed": true
   },
   "outputs": [],
   "source": []
  },
  {
   "cell_type": "code",
   "execution_count": null,
   "metadata": {
    "collapsed": true
   },
   "outputs": [],
   "source": []
  },
  {
   "cell_type": "code",
   "execution_count": null,
   "metadata": {
    "collapsed": true
   },
   "outputs": [],
   "source": []
  }
 ],
 "metadata": {
  "kernelspec": {
   "display_name": "Python 3",
   "language": "python",
   "name": "python3"
  },
  "language_info": {
   "codemirror_mode": {
    "name": "ipython",
    "version": 3
   },
   "file_extension": ".py",
   "mimetype": "text/x-python",
   "name": "python",
   "nbconvert_exporter": "python",
   "pygments_lexer": "ipython3",
   "version": "3.4.5"
  },
  "widgets": {
   "state": {},
   "version": "1.1.2"
  }
 },
 "nbformat": 4,
 "nbformat_minor": 0
}
