{
 "cells": [
  {
   "cell_type": "code",
   "execution_count": 51,
   "metadata": {
    "collapsed": false
   },
   "outputs": [
    {
     "name": "stdout",
     "output_type": "stream",
     "text": [
      "File saved as: creatures/root.json\n"
     ]
    }
   ],
   "source": [
    "from editor import Editor\n",
    "\n",
    "editor = Editor()\n",
    "editor.load('creatures/root.json')\n",
    "editor.run()"
   ]
  },
  {
   "cell_type": "code",
   "execution_count": 25,
   "metadata": {
    "collapsed": false
   },
   "outputs": [
    {
     "data": {
      "image/png": "[encoded data removed]",
      "text/plain": [
       "<matplotlib.figure.Figure at 0x7f8fdbdbcba8>"
      ]
     },
     "metadata": {},
     "output_type": "display_data"
    },
    {
     "name": "stdout",
     "output_type": "stream",
     "text": [
      "episode: 7350 variance: 1\n"
     ]
    }
   ],
   "source": [
    "%matplotlib inline\n",
    "from matplotlib import pyplot as plt\n",
    "import numpy as np\n",
    "from IPython.display import clear_output\n",
    "from engine import Engine\n",
    "from pyglet.window import key\n",
    "import util\n",
    "\n",
    "import lstm\n",
    "\n",
    "# train your model to (hopefully) walk by running this cell\n",
    "\n",
    "# hit s to speed up training, and s again to watch the best set of weights\n",
    "# use the up and down arrow keys to introduce more or less randomness in sampled torques\n",
    "\n",
    "# this cell is an experiment with policy improvement\n",
    "# the agent's joint torques (continuous, action) are randomly sampled from means output by a neural network\n",
    "# the gradient which will shift the means given the state, is accumulated into a decaying single gradient\n",
    "# if the agent experiences a large reward, we add the gradient to its weights, \"reinforcing\" the recent behavior\n",
    "# in the case of a negative reward, we subtract the gradient, inhibiting recent behavior (hopefully!)\n",
    "\n",
    "FILE = 'creatures/leggy2.json'\n",
    "\n",
    "direction = 1\n",
    "\n",
    "# Physics engine and window\n",
    "LOWER_LIM = -.1 * np.pi\n",
    "UPPER_LIM = .1 * np.pi\n",
    "LIMIT = True\n",
    "ANGLE_RANGE = UPPER_LIM - LOWER_LIM if LIMIT else np.pi*2.0\n",
    "\n",
    "engine = Engine(caption='Train', ppm=15,width=1280, height=720, gravity=(0, -50), joint_limit=LIMIT, \\\n",
    "               upper_angle=UPPER_LIM, lower_angle=LOWER_LIM, max_torque=10000, \\\n",
    "                linear_damping=0.0, angular_damping=0.0)\n",
    "\n",
    "# step floor\n",
    "def add_steps(steps=8):\n",
    "    offset = engine.width/steps\n",
    "    for i in range(steps+1):\n",
    "        engine.add_static_body((i * offset, 45), (10, 20))\n",
    "\n",
    "# Load creature\n",
    "engine.load(FILE)\n",
    "\n",
    "# count joints and body parts\n",
    "body_count = len(engine.bodies)\n",
    "joint_count = len(engine.joints)\n",
    "\n",
    "if body_count == 0 or joint_count == 0:\n",
    "    engine.close()\n",
    "    raise RuntimeError(\"Your model doesn't have any physics bodies or joints\")\n",
    "    \n",
    "def reset_creature():\n",
    "    engine.clear_all_but_ground()\n",
    "    engine.load(FILE)\n",
    "    \n",
    "    engine.set_position((engine.width/2, engine.height/2))\n",
    "    \n",
    "    for j in engine.joints:\n",
    "        j.motorSpeed = np.random.randn()\n",
    "    \n",
    "    engine.step_physics(50)\n",
    "    for b in engine.bodies:\n",
    "        b.linearVelocity = (0, 0)\n",
    "        b.angularVelocity = 0\n",
    "\n",
    "def features(time_step=0):\n",
    "    f = []\n",
    "    \n",
    "    #f += [direction]\n",
    "    \n",
    "    for j in engine.joints:\n",
    "        a = j.angle\n",
    "        r = (j.upperLimit - j.lowerLimit) if j.limitEnabled else np.pi*2.0\n",
    "        a %= r\n",
    "        a = a * 2.0 - 1.0\n",
    "        #f += [a]\n",
    "        #f += [np.tanh(j.speed)]\n",
    "        \n",
    "    for b in engine.bodies:\n",
    "        a = b.angle % ANGLE_RANGE\n",
    "        a /= ANGLE_RANGE\n",
    "        a = a * 2.0 - 1.0\n",
    "        #f += [a]\n",
    "        #f += [np.tanh(b.angularVelocity)]\n",
    "        #f += [np.tanh(b.linearVelocity[0])]\n",
    "        #f += [np.tanh(b.linearVelocity[1])]\n",
    "        #f += [np.sin(a)]\n",
    "        #f += [np.cos(a)]\n",
    "        #f += [engine.to_window(b.position)[1]/engine.height]\n",
    "        #f += [engine.to_window(b.position)[0]/engine.width]\n",
    "        \n",
    "        # collision\n",
    "        #if len(b.contacts) > 0:\n",
    "        #    f += [1.0]\n",
    "        #else:\n",
    "        #    f += [0.0]\n",
    "    \n",
    "    #f += [np.sin(time_step / 2.0)] # Creature's heartbeat? :-)\n",
    "    #f += [np.cos(time_step / 2.0)]\n",
    "    f += [np.sin(time_step)]\n",
    "    \n",
    "    return np.array([f])\n",
    "\n",
    "\n",
    "\n",
    "PHYS_STEPS = 20\n",
    "variance = 1 # increase or decrease deviation from means output by nn\n",
    "\n",
    "# model\n",
    "TIMESTEPS = 128 # timesteps per episode\n",
    "\n",
    "X_DIM = features(0).shape[1]\n",
    "H_DIM = 32\n",
    "Y_DIM = joint_count\n",
    "\n",
    "model = lstm.LSTMNetwork(x_dim=X_DIM, h_dim=H_DIM, y_dim=Y_DIM,\n",
    "                       time_steps=TIMESTEPS, \n",
    "                       act=lstm.tanh, \n",
    "                       act_p=lstm.tanh_p)\n",
    "\n",
    "PAIRS = [] # pairs of good states and torques\n",
    "\n",
    "def train(n=8):\n",
    "    model.grad_clear()\n",
    "    \n",
    "    for i in range(n):\n",
    "        idx = np.random.randint(0, len(PAIRS))\n",
    "\n",
    "        S = PAIRS[idx][0]\n",
    "        T = PAIRS[idx][1]\n",
    "        R_trace = PAIRS[idx][2]\n",
    "        \n",
    "        S_Noise = [x + np.random.randn(x.shape[0], x.shape[1]) * 0.01 for x in S]\n",
    "\n",
    "        #h0 = np.zeros([1, H_DIM])\n",
    "        #c0 = np.zeros([1, H_DIM])\n",
    "        \n",
    "        h0 = np.random.random_sample([1, H_DIM]) * .01\n",
    "        c0 = np.random.random_sample([1, H_DIM]) * .01\n",
    "    \n",
    "\n",
    "        model.ff(S_Noise, h0, c0)\n",
    "\n",
    "        dys = []\n",
    "        for i in range(TIMESTEPS-1):\n",
    "            h = model.outputs[i].h\n",
    "            dy = h - T[i]\n",
    "            dy *= R_trace[i]\n",
    "            dys += [dy]\n",
    "\n",
    "        model.bp(dys)\n",
    "        \n",
    "    model.grad_apply(num_batch=n, learning_rate=0.1)\n",
    "\n",
    "rs = []\n",
    "total_r = 0.0\n",
    "episode = 0\n",
    "\n",
    "speedup = False\n",
    "running = True\n",
    "interacted = False\n",
    "\n",
    "while running:\n",
    "    if not interacted:\n",
    "        rs += [total_r/TIMESTEPS]\n",
    "    \n",
    "    if episode % 25 == 0:\n",
    "        clear_output(wait=True)\n",
    "    \n",
    "        if len(rs) > 1000:\n",
    "            rs = rs[-1000:]\n",
    "            \n",
    "        fig = plt.plot(rs, 'b')\n",
    "        plt.plot([0, len(rs)], [0, 0], 'r')\n",
    "        plt.show()\n",
    "        \n",
    "        print('episode: {} variance: {}'.format(episode, np.round(variance, 2)))\n",
    "    \n",
    "    # new episode\n",
    "    \n",
    "    S = [] # keep list of states\n",
    "    T = [] # keep list of torques\n",
    "    R = [] # keep list of rewards\n",
    "    \n",
    "    H = [] # keep list of state\n",
    "    C = [] \n",
    "    \n",
    "    # lstm state vectors\n",
    "    h = np.zeros([1, H_DIM])\n",
    "    c = np.zeros([1, H_DIM])\n",
    "    \n",
    "    #h = np.random.random_sample([1, H_DIM])\n",
    "    #c = np.random.random_sample([1, H_DIM])\n",
    "    \n",
    "    total_r = 0.0\n",
    "    t = 0\n",
    "    episode += 1\n",
    "    \n",
    "    #direction = np.random.randint(0, 2)\n",
    "    \n",
    "    reset_creature()\n",
    "    \n",
    "    interacted = False\n",
    "    reset = False\n",
    "    while not reset:\n",
    "        engine.window.dispatch_events()\n",
    "        \n",
    "        if engine.exited():\n",
    "            running = False\n",
    "            reset = True\n",
    "                \n",
    "        # keyboard input\n",
    "        if engine.window.pressed(key.UP):\n",
    "            variance += 0.1\n",
    "        if engine.window.pressed(key.DOWN):\n",
    "            variance -= 0.1\n",
    "        if engine.window.pressed(key.S):\n",
    "            speedup = not speedup\n",
    "            \n",
    "        if engine.window.pressed(key.RIGHT):\n",
    "            direction += .1\n",
    "        if engine.window.pressed(key.LEFT):\n",
    "            direction -= .1\n",
    "        direction = np.round(direction, 1)\n",
    "            \n",
    "        variance = max(variance, 0.0)\n",
    "            \n",
    "        engine.window.reset_keys()\n",
    "        \n",
    "        if engine.window.mouse_pressed:\n",
    "            engine.create_mouse_joint()\n",
    "            interacted = True\n",
    "        else:\n",
    "            engine.destroy_mouse_joint()\n",
    "        \n",
    "        engine.update_mouse_joint()\n",
    "        \n",
    "        dir_text = '{}'.format(direction)\n",
    "        if direction == 1:\n",
    "            dir_text = 'right'\n",
    "        elif direction == -1:\n",
    "            dir_text = 'left'\n",
    "        elif direction == 0:\n",
    "            dir_text = 'jump'\n",
    "            \n",
    "        text = 'episode: {} t: {} variance: {} direction: {}'.format(\\\n",
    "                episode, t, np.round(variance, 2), dir_text)\n",
    "                \n",
    "        x = features(t)\n",
    "        \n",
    "        # get model prediction\n",
    "        model.ff([x], h, c)\n",
    "        means = model.outputs[0].h[0]\n",
    "        \n",
    "        # keep track of state\n",
    "        h = model.units[0].h.copy()\n",
    "        c = model.units[0].c.copy()\n",
    "        \n",
    "        H += [h]\n",
    "        C += [c]\n",
    "        \n",
    "        if variance > 0:\n",
    "            torques = np.array([np.random.normal(loc=u, scale=np.sqrt(variance)) for u in means])\n",
    "        else:\n",
    "            torques = means\n",
    "        \n",
    "        start_p = engine.body_position()\n",
    "                \n",
    "        for i, j in enumerate(engine.joints):\n",
    "            j.motorSpeed = torques[i]\n",
    "        \n",
    "        W = model.W\n",
    "        matrices = [x.T, h.T, c.T, W['f'], W['i'], W['c'], W['o'], W['y']]\n",
    "        \n",
    "        for i in range(PHYS_STEPS):\n",
    "            engine.step_physics(1)\n",
    "            if not speedup:\n",
    "                engine.window.clear()\n",
    "                engine.window.draw_matrices(matrices, recalc=False)\n",
    "                engine.window.draw_text(text)\n",
    "                engine.render()\n",
    "                engine.clock_tick()\n",
    "                \n",
    "        end_p = engine.body_position()\n",
    "        \n",
    "        reward = 0\n",
    "        \n",
    "        if direction == 1:\n",
    "            reward = end_p[0] - start_p[0]\n",
    "        elif direction == -1:\n",
    "            reward = start_p[0] - end_p[0]\n",
    "        elif direction == 0:\n",
    "            reward = abs(start_p[1] - end_p[1]) - abs(start_p[0] - end_p[0])\n",
    "        \n",
    "        \n",
    "        reward /= PHYS_STEPS\n",
    "        total_r += reward\n",
    "        \n",
    "        \n",
    "        # keep track of features, torques, and rewards\n",
    "        S += [x]\n",
    "        T += [torques]\n",
    "        R += [reward]\n",
    "        \n",
    "        #if speedup and np.random.randint(0, 10) == 0:\n",
    "        #    direction = np.random.randint(0, 3) - 1\n",
    "        \n",
    "        \n",
    "        if end_p[0] > engine.width/2 + 400:\n",
    "            engine.set_position((engine.width/2 - 350, end_p[1]), zero_vel=False)\n",
    "        elif end_p[0] < engine.width/2 - 400:\n",
    "            engine.set_position((engine.width/2 + 350, end_p[1]), zero_vel=False)\n",
    "        \n",
    "        if not speedup:\n",
    "            engine.window.draw_matrices(matrices, recalc=True)\n",
    "        \n",
    "        if t >= TIMESTEPS - 1 and speedup:\n",
    "            reset = True\n",
    "            \n",
    "            if len(S) == TIMESTEPS:\n",
    "                # calculate trace\n",
    "                r = 0\n",
    "                R_trace = np.zeros([len(R)])\n",
    "                idx = len(R)-1\n",
    "                \n",
    "                for rr in reversed(R):\n",
    "                    r *= 0.8\n",
    "                    r += rr\n",
    "                    #r += (rr - r) * 0.05\n",
    "                    R_trace[idx] = r\n",
    "                    idx -= 1\n",
    "                    \n",
    "                #R_trace -= np.mean(R_trace)\n",
    "                R_trace /= (np.max(R_trace) - np.min(R_trace))\n",
    "\n",
    "                #clear_output(wait=True)\n",
    "                \n",
    "                #plt.plot(R)\n",
    "                #plt.plot(R_trace)\n",
    "                #plt.plot([0, len(R)], [0, 0], c='r')\n",
    "                \n",
    "                #plt.plot(np.array(H).reshape(TIMESTEPS, H_DIM))\n",
    "                \n",
    "                #plt.show()\n",
    "\n",
    "                # keep track\n",
    "                PAIRS += [[S, T, R_trace]]\n",
    "                if len(PAIRS) > 512:\n",
    "                    PAIRS = PAIRS[-512:]\n",
    "\n",
    "                # train\n",
    "                if len(PAIRS) > 32:\n",
    "                    for i in range(4):\n",
    "                        train(n=4)\n",
    "            \n",
    "            \n",
    "            if episode % 10 == 0:\n",
    "                engine.window.clear()\n",
    "                engine.window.draw_matrices(matrices, recalc=True)\n",
    "                engine.window.draw_text(text)\n",
    "                engine.render()\n",
    "            \n",
    "        t += 1\n",
    "\n",
    "engine.close()"
   ]
  },
  {
   "cell_type": "code",
   "execution_count": null,
   "metadata": {
    "collapsed": true
   },
   "outputs": [],
   "source": []
  },
  {
   "cell_type": "code",
   "execution_count": null,
   "metadata": {
    "collapsed": true
   },
   "outputs": [],
   "source": []
  },
  {
   "cell_type": "code",
   "execution_count": 79,
   "metadata": {
    "collapsed": false
   },
   "outputs": [
    {
     "name": "stdout",
     "output_type": "stream",
     "text": [
      "Epoch 1/10\n",
      "1/1 [==============================] - 1s - loss: 0.4511\n",
      "Epoch 2/10\n",
      "1/1 [==============================] - 0s - loss: 0.4234\n",
      "Epoch 3/10\n",
      "1/1 [==============================] - 0s - loss: 0.4045\n",
      "Epoch 4/10\n",
      "1/1 [==============================] - 0s - loss: 0.3892\n",
      "Epoch 5/10\n",
      "1/1 [==============================] - 0s - loss: 0.3759\n",
      "Epoch 6/10\n",
      "1/1 [==============================] - 0s - loss: 0.3639\n",
      "Epoch 7/10\n",
      "1/1 [==============================] - 0s - loss: 0.3529\n",
      "Epoch 8/10\n",
      "1/1 [==============================] - 0s - loss: 0.3426\n",
      "Epoch 9/10\n",
      "1/1 [==============================] - 0s - loss: 0.3328\n",
      "Epoch 10/10\n",
      "1/1 [==============================] - 0s - loss: 0.3234\n"
     ]
    },
    {
     "data": {
      "text/plain": [
       "<keras.callbacks.History at 0x7f2eec410978>"
      ]
     },
     "execution_count": 79,
     "metadata": {},
     "output_type": "execute_result"
    }
   ],
   "source": [
    "from keras.models import Sequential\n",
    "from keras.layers import Dense, Activation, LSTM, TimeDistributed\n",
    "\n",
    "model = Sequential()\n",
    "model.add(LSTM(10, return_sequences=True, input_dim=2))\n",
    "model.add(TimeDistributed(Dense(4)))\n",
    "\n",
    "model.compile(optimizer='rmsprop',loss='mse')\n",
    "\n",
    "batchsize = 1\n",
    "Ntime = 100\n",
    "ins = np.random.random((batchsize, Ntime, 2))\n",
    "outs = np.random.random((batchsize, Ntime, 4))\n",
    "model.fit(x=ins,y=outs, batch_size=batchsize, nb_epoch=10)"
   ]
  },
  {
   "cell_type": "code",
   "execution_count": 80,
   "metadata": {
    "collapsed": false
   },
   "outputs": [
    {
     "data": {
      "text/plain": [
       "array([[[ 0.10850468, -0.11950058, -0.05107182,  0.00274808],\n",
       "        [ 0.15577987, -0.23360163, -0.09920343, -0.00549069],\n",
       "        [ 0.11276637, -0.2698327 , -0.13510181,  0.02918982],\n",
       "        ..., \n",
       "        [-0.00733893, -0.12297066,  0.03203527,  0.36381829],\n",
       "        [ 0.01817065, -0.10814472,  0.01812418,  0.37500477],\n",
       "        [ 0.03046877, -0.13876648,  0.02427833,  0.41089061]]], dtype=float32)"
      ]
     },
     "execution_count": 80,
     "metadata": {},
     "output_type": "execute_result"
    }
   ],
   "source": [
    "# now you can give it a test sequence of any duration. Here, its 1000 timesteps.\n",
    "model.predict(x=np.random.random((1,1000,2)))"
   ]
  },
  {
   "cell_type": "code",
   "execution_count": 82,
   "metadata": {
    "collapsed": false
   },
   "outputs": [
    {
     "data": {
      "text/plain": [
       "(1, 1000, 4)"
      ]
     },
     "execution_count": 82,
     "metadata": {},
     "output_type": "execute_result"
    }
   ],
   "source": [
    "Out[80].shape"
   ]
  },
  {
   "cell_type": "code",
   "execution_count": 4,
   "metadata": {
    "collapsed": true
   },
   "outputs": [],
   "source": [
    "a = [1, 2, 4]"
   ]
  },
  {
   "cell_type": "code",
   "execution_count": 5,
   "metadata": {
    "collapsed": false
   },
   "outputs": [
    {
     "data": {
      "text/plain": [
       "[2, 4]"
      ]
     },
     "execution_count": 5,
     "metadata": {},
     "output_type": "execute_result"
    }
   ],
   "source": [
    "a[-2:]"
   ]
  },
  {
   "cell_type": "code",
   "execution_count": null,
   "metadata": {
    "collapsed": true
   },
   "outputs": [],
   "source": []
  }
 ],
 "metadata": {
  "kernelspec": {
   "display_name": "Python 3",
   "language": "python",
   "name": "python3"
  },
  "language_info": {
   "codemirror_mode": {
    "name": "ipython",
    "version": 3
   },
   "file_extension": ".py",
   "mimetype": "text/x-python",
   "name": "python",
   "nbconvert_exporter": "python",
   "pygments_lexer": "ipython3",
   "version": "3.4.5"
  },
  "widgets": {
   "state": {},
   "version": "1.1.2"
  }
 },
 "nbformat": 4,
 "nbformat_minor": 0
}
