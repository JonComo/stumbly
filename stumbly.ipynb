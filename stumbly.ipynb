{
 "cells": [
  {
   "cell_type": "code",
   "execution_count": 2,
   "metadata": {
    "collapsed": false
   },
   "outputs": [
    {
     "name": "stdout",
     "output_type": "stream",
     "text": [
      "File saved as: simple_snake.json\n"
     ]
    }
   ],
   "source": [
    "from editor import Editor\n",
    "from Box2D.b2 import pi\n",
    "\n",
    "# edit your model by running this cell\n",
    "# hit 's' to save while editing to model.json\n",
    "\n",
    "editor = Editor()\n",
    "editor.load('simple_snake.json')\n",
    "editor.run()"
   ]
  },
  {
   "cell_type": "code",
   "execution_count": 1,
   "metadata": {
    "collapsed": false
   },
   "outputs": [
    {
     "name": "stdout",
     "output_type": "stream",
     "text": [
      "s1: [[-0.61659996  0.93981538 -0.49096851  0.01451708 -0.93815905  0.41989991\n",
      "   0.63647393  0.27718514  0.44628708 -4.99999809 -4.99999809 -4.99999809\n",
      "  -4.99873257 -4.99999809 -4.99389458  4.99873257 -4.99516392]] avg_r: 0.8 eps: 0.1 memories: 10000\n",
      "action: 2\n"
     ]
    }
   ],
   "source": [
    "%matplotlib inline\n",
    "from matplotlib import pyplot as plt\n",
    "\n",
    "import numpy as np\n",
    "from IPython.display import clear_output\n",
    "\n",
    "import pygame\n",
    "from pygame.locals import (KEYDOWN, K_RIGHT, K_LEFT, K_r, K_s)\n",
    "\n",
    "from Box2D.b2 import pi\n",
    "\n",
    "from agent import Agent\n",
    "from engine import Engine\n",
    "\n",
    "from time import sleep\n",
    "\n",
    "# train your model to (hopefully) walk by running this cell\n",
    "\n",
    "# Physics engine and window\n",
    "LOWER_LIM = -.4 * np.pi\n",
    "UPPER_LIM = .4 * np.pi\n",
    "LIMIT = False\n",
    "ANGLE_RANGE = UPPER_LIM - LOWER_LIM if LIMIT else np.pi*2.0\n",
    "engine = Engine(caption='Train', width=1280, height=720, gravity=(0, -50), joint_limit=LIMIT, \\\n",
    "               upper_angle=UPPER_LIM, lower_angle=LOWER_LIM, linear_damping=0.0, angular_damping=0)\n",
    "\n",
    "engine.load('star.json')\n",
    "\n",
    "# Add floor\n",
    "engine.add_static_body(p=(engine.width/2, engine.height-10), size=(engine.width, 10))\n",
    "\n",
    "# Features\n",
    "ENCODING_SIZE = 32 # buckets for body angles\n",
    "\n",
    "def features():\n",
    "    f = []\n",
    "    \"\"\"\n",
    "    for b in engine.world.bodies:\n",
    "        if b.userData and isinstance(b.userData, dict):\n",
    "            a = b.angle % ANGLE_RANGE\n",
    "            a /= ANGLE_RANGE\n",
    "            a = int(a * ENCODING_SIZE)\n",
    "            encoding = [0] * ENCODING_SIZE\n",
    "            encoding[a] = 1.0\n",
    "            f.extend(encoding)\"\"\"\n",
    "    \n",
    "    \n",
    "    for b in engine.world.bodies:\n",
    "        if b.userData and isinstance(b.userData, dict):\n",
    "            a = b.angle % ANGLE_RANGE\n",
    "            a /= ANGLE_RANGE\n",
    "            a = a * 2.0 - 1.0\n",
    "            f.append(a)\n",
    "            \n",
    "    for j in engine.world.joints:\n",
    "        f.append(j.motorSpeed)\n",
    "                \n",
    "    return np.array([f])\n",
    "\n",
    "# all joints change\n",
    "s_format = '{:0' + str(len(engine.world.joints)) + 'b}'\n",
    "def act(action):\n",
    "    # joint config:\n",
    "    config = s_format.format(action) # turn into binary rep\n",
    "    for i, c in enumerate(config):\n",
    "        engine.world.joints[i].motorSpeed *= 0.8\n",
    "        engine.world.joints[i].motorSpeed += 1 if c == '1' else -1\n",
    "\n",
    "# one joint at a time\n",
    "\"\"\"\n",
    "def act(action):\n",
    "    #for j in engine.world.joints:\n",
    "        #j.motorSpeed = 0.0\n",
    "        \n",
    "    #for b in engine.world.bodies:\n",
    "        #if b.userData:\n",
    "            #b.angularVelocity = 0\n",
    "            #b.linearVelocity = (0, b.linearVelocity[1])\n",
    "        \n",
    "    motorSpeed = 4.0\n",
    "    cnt = len(engine.world.joints)\n",
    "    if action > cnt-1:\n",
    "        motorSpeed *= -1\n",
    "        action -= cnt\n",
    "    joint = engine.world.joints[action]\n",
    "    joint.motorSpeed = motorSpeed\"\"\"\n",
    "    \n",
    "def body_position():\n",
    "    avg = np.zeros([2])\n",
    "    cnt = 0\n",
    "    for b in engine.world.bodies:\n",
    "        if b.userData:\n",
    "            avg += [b.position[0], b.position[1]]\n",
    "            cnt += 1\n",
    "    avg /= cnt\n",
    "    return engine.to_screen(avg)\n",
    "\n",
    "def set_position(position, zero_vel=True):\n",
    "    current = engine.to_pybox2d(body_position())\n",
    "    position = engine.to_pybox2d(position)\n",
    "    shift = (position[0] - current[0], position[1] - current[1])\n",
    "    for b in engine.world.bodies:\n",
    "        if b.userData:\n",
    "            if zero_vel:\n",
    "                b.linearVelocity = (0, 0)\n",
    "                b.angularVelocity = 0\n",
    "            b.position = (b.position[0] + shift[0], b.position[1] + shift[1])\n",
    "\n",
    "body_count = len(engine.world.bodies) - 1\n",
    "joint_count = len(engine.world.joints)\n",
    "action_count = 2**joint_count\n",
    "\n",
    "if body_count == 0 or joint_count == 0:\n",
    "    engine.close()\n",
    "    raise ValueError(\"Your model doesn't have any physics bodies or joints\")\n",
    "\n",
    "agent = Agent(features=features().shape[1], actions=action_count, hdim=6, gamma=0.9, learning_rate=0.001, \\\n",
    "             max_memory=10000)\n",
    "agent.eps = .2\n",
    "\n",
    "rs = []\n",
    "avg_r = 0.0\n",
    "\n",
    "speedup = False\n",
    "running = True\n",
    "while running:\n",
    "    \n",
    "    # train\n",
    "    if len(agent.M) > 0:\n",
    "        clear_output(wait=True)\n",
    "        #print('train. avg_r: {}'.format(avg_r))\n",
    "        fig = plt.plot(rs, 'b')\n",
    "        plt.plot([0, len(rs)], [0, 0], 'r')\n",
    "        plt.show()\n",
    "        if len(rs) > 5000:\n",
    "            rs = rs[2500:]\n",
    "        agent.train(iters=min(len(agent.M), 1000), batches=1)\n",
    "        \n",
    "    t = 0\n",
    "    \n",
    "    set_position((engine.width/2.0, engine.height/2.0 + 200))\n",
    "    \n",
    "    last_x = body_position()[0]\n",
    "    \n",
    "    s1 = features()\n",
    "    q1 = agent.q_approx(s1)\n",
    "    a1 = agent.sample_action_eps(q1)\n",
    "    \n",
    "    reset = False\n",
    "    while not reset:\n",
    "        for event in engine.events():\n",
    "            if engine.quit_event(event):\n",
    "                running = False\n",
    "                reset = True\n",
    "            if event.type == KEYDOWN:\n",
    "                k = pygame.key.get_pressed()\n",
    "                if k[K_RIGHT]:\n",
    "                    agent.eps += .1\n",
    "                elif k[K_LEFT]:\n",
    "                    agent.eps -= .1\n",
    "                elif k[K_r]:\n",
    "                    agent.reset()\n",
    "                elif k[K_s]:\n",
    "                    speedup = not speedup\n",
    "\n",
    "        # build xp tuple\n",
    "        xp = {'s1': s1.copy(), 'a1': a1}\n",
    "\n",
    "        # act a1\n",
    "        act(a1)\n",
    "        \n",
    "        # step physics engine multiple times\n",
    "        engine.step_physics(1)\n",
    "\n",
    "        # reward move right relative\n",
    "        reward = body_position()[0] - last_x\n",
    "        reward *= -1\n",
    "        \n",
    "        # reward height\n",
    "        #reward += (engine.height - body_position()[1])/engine.height\n",
    "        \n",
    "        xp['r'] = reward\n",
    "        \n",
    "        avg_r += .001 * (reward - avg_r)\n",
    "        rs.append(avg_r)\n",
    "                             \n",
    "        # state2\n",
    "        s2 = features()\n",
    "        q2 = agent.q_approx(s2)\n",
    "        a2 = agent.sample_action_eps(q2)\n",
    "\n",
    "        xp['s2'] = s2.copy()\n",
    "        xp['a2'] = a2\n",
    "\n",
    "        agent.memorize(xp)\n",
    "        if t > 5000:\n",
    "            reset = True\n",
    "        \n",
    "        if not speedup:\n",
    "            clear_output(wait=True)\n",
    "            print('s1: {} avg_r: {} eps: {} memories: {}\\naction: {}'\\\n",
    "                  .format(s1, np.round(avg_r, 1), agent.eps, len(agent.M), a2))\n",
    "            engine.render()\n",
    "            engine.clock_tick()\n",
    "            #fig = plt.plot(q2[0,:])\n",
    "            #plt.show()\n",
    "\n",
    "        # prepare for next rounds\n",
    "        s1 = s2\n",
    "        a1 = a2\n",
    "        last_x = body_position()[0]\n",
    "        t += 1\n",
    "\n",
    "        if last_x > engine.width-50.0 or last_x < 50.0:\n",
    "            reset = True\n",
    "            engine.render()\n",
    "            engine.clock_tick()\n",
    "\n",
    "engine.close()"
   ]
  },
  {
   "cell_type": "code",
   "execution_count": null,
   "metadata": {
    "collapsed": true
   },
   "outputs": [],
   "source": []
  },
  {
   "cell_type": "code",
   "execution_count": null,
   "metadata": {
    "collapsed": true
   },
   "outputs": [],
   "source": []
  },
  {
   "cell_type": "code",
   "execution_count": null,
   "metadata": {
    "collapsed": true
   },
   "outputs": [],
   "source": []
  },
  {
   "cell_type": "code",
   "execution_count": null,
   "metadata": {
    "collapsed": true
   },
   "outputs": [],
   "source": []
  },
  {
   "cell_type": "code",
   "execution_count": null,
   "metadata": {
    "collapsed": true
   },
   "outputs": [],
   "source": []
  },
  {
   "cell_type": "code",
   "execution_count": null,
   "metadata": {
    "collapsed": true
   },
   "outputs": [],
   "source": []
  },
  {
   "cell_type": "code",
   "execution_count": null,
   "metadata": {
    "collapsed": true
   },
   "outputs": [],
   "source": []
  },
  {
   "cell_type": "code",
   "execution_count": null,
   "metadata": {
    "collapsed": true
   },
   "outputs": [],
   "source": []
  },
  {
   "cell_type": "code",
   "execution_count": null,
   "metadata": {
    "collapsed": true
   },
   "outputs": [],
   "source": []
  },
  {
   "cell_type": "code",
   "execution_count": null,
   "metadata": {
    "collapsed": true
   },
   "outputs": [],
   "source": []
  },
  {
   "cell_type": "code",
   "execution_count": null,
   "metadata": {
    "collapsed": true
   },
   "outputs": [],
   "source": []
  }
 ],
 "metadata": {
  "kernelspec": {
   "display_name": "Python 3",
   "language": "python",
   "name": "python3"
  },
  "language_info": {
   "codemirror_mode": {
    "name": "ipython",
    "version": 3
   },
   "file_extension": ".py",
   "mimetype": "text/x-python",
   "name": "python",
   "nbconvert_exporter": "python",
   "pygments_lexer": "ipython3",
   "version": "3.4.5"
  },
  "widgets": {
   "state": {},
   "version": "1.1.2"
  }
 },
 "nbformat": 4,
 "nbformat_minor": 0
}
