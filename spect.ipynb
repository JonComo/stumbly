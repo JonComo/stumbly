{
 "cells": [
  {
   "cell_type": "code",
   "execution_count": 2,
   "metadata": {
    "collapsed": false
   },
   "outputs": [],
   "source": [
    "import pyaudio\n",
    "\n",
    "import window\n",
    "import numpy as np\n",
    "import scipy.fftpack\n",
    "\n",
    "from IPython.display import clear_output\n",
    "\n",
    "WIN_WIDTH = 512\n",
    "\n",
    "CHUNK = 1024\n",
    "FORMAT = pyaudio.paInt16\n",
    "CHANNELS = 1\n",
    "RATE = 12250\n",
    "\n",
    "xoff = 0\n",
    "\n",
    "draw = np.zeros([512, WIN_WIDTH])\n",
    "def callback(in_data, frame_count, time_info, status):\n",
    "    global draw, xoff\n",
    "    \n",
    "    a = np.fromstring(in_data, dtype=np.int16)\n",
    "    out = fft(a)\n",
    "    \n",
    "    for i in range(min(draw.shape[0], len(out))):\n",
    "        draw[i, xoff] = out[i]\n",
    "        \n",
    "    xoff -= 1\n",
    "    if xoff <= 0:\n",
    "        xoff = WIN_WIDTH-1\n",
    "    \n",
    "    \"\"\"\n",
    "    for i in range(CHUNK):\n",
    "        val = float((a[i]+4096) / 32)\n",
    "        draw[max(min(int(val), 255), 0), i] = 1\"\"\"\n",
    "    \n",
    "    return (None, pyaudio.paContinue)\n",
    "\n",
    "def fft(signal):\n",
    "    # Number of samplepoints\n",
    "    N = CHUNK\n",
    "    yf = scipy.fftpack.fft(signal)\n",
    "    \n",
    "    return 2.0/N * np.abs(yf[:N//2])\n",
    "\n",
    "\n",
    "p = pyaudio.PyAudio()\n",
    "\n",
    "stream = p.open(format=FORMAT,\n",
    "                channels=CHANNELS,\n",
    "                rate=RATE,\n",
    "                input=True,\n",
    "                frames_per_buffer=CHUNK,\n",
    "                stream_callback=callback)\n",
    "\n",
    "w = window.Window(width=draw.shape[1], height=draw.shape[0])\n",
    "\n",
    "running = True\n",
    "while running:\n",
    "    w.clear()\n",
    "    \n",
    "    if draw is not None:\n",
    "        w.draw_matrices([np.flipud(draw)/200.0 - .5], x=0, y=w.height)\n",
    "    \n",
    "    running = w.update()\n",
    "\n",
    "stream.stop_stream()\n",
    "stream.close()\n",
    "p.terminate()"
   ]
  },
  {
   "cell_type": "code",
   "execution_count": null,
   "metadata": {
    "collapsed": true
   },
   "outputs": [],
   "source": []
  }
 ],
 "metadata": {
  "kernelspec": {
   "display_name": "Python 3",
   "language": "python",
   "name": "python3"
  },
  "language_info": {
   "codemirror_mode": {
    "name": "ipython",
    "version": 3
   },
   "file_extension": ".py",
   "mimetype": "text/x-python",
   "name": "python",
   "nbconvert_exporter": "python",
   "pygments_lexer": "ipython3",
   "version": "3.4.5"
  }
 },
 "nbformat": 4,
 "nbformat_minor": 0
}
