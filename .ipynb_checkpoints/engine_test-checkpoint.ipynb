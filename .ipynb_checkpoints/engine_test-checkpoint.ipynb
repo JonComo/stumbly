{
 "cells": [
  {
   "cell_type": "code",
   "execution_count": 1,
   "metadata": {
    "collapsed": true
   },
   "outputs": [],
   "source": [
    "from engine import Engine"
   ]
  },
  {
   "cell_type": "code",
   "execution_count": 3,
   "metadata": {
    "collapsed": false
   },
   "outputs": [
    {
     "name": "stdout",
     "output_type": "stream",
     "text": [
      "Running...\n",
      "mouse: (344, 348)\n",
      "mouse: (296, 227)\n",
      "mouse: (218, 173)\n"
     ]
    }
   ],
   "source": [
    "# using the built in run loop\n",
    "engine = Engine(caption='Built in run loop')\n",
    "\n",
    "def callback():\n",
    "    pass\n",
    "\n",
    "def mouse_pressed():\n",
    "    print('mouse: {}'.format(engine.mouse))\n",
    "\n",
    "engine.run(callback=callback, mouse_pressed=mouse_pressed)"
   ]
  },
  {
   "cell_type": "code",
   "execution_count": 4,
   "metadata": {
    "collapsed": false
   },
   "outputs": [],
   "source": [
    "# using a custom run loop\n",
    "\n",
    "engine = Engine(caption='Custom run loop')\n",
    "\n",
    "running = True\n",
    "while running:\n",
    "    for e in engine.events():\n",
    "        if engine.quit_event(e):\n",
    "            running = False\n",
    "            \n",
    "    engine.step_physics()\n",
    "    engine.render()\n",
    "    engine.clock_tick()\n",
    "    \n",
    "engine.close()"
   ]
  },
  {
   "cell_type": "code",
   "execution_count": null,
   "metadata": {
    "collapsed": true
   },
   "outputs": [],
   "source": []
  }
 ],
 "metadata": {
  "kernelspec": {
   "display_name": "Python 3",
   "language": "python",
   "name": "python3"
  },
  "language_info": {
   "codemirror_mode": {
    "name": "ipython",
    "version": 3
   },
   "file_extension": ".py",
   "mimetype": "text/x-python",
   "name": "python",
   "nbconvert_exporter": "python",
   "pygments_lexer": "ipython3",
   "version": "3.4.5"
  },
  "widgets": {
   "state": {},
   "version": "1.1.2"
  }
 },
 "nbformat": 4,
 "nbformat_minor": 0
}
