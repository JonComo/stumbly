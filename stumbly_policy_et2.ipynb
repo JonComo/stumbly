{
 "cells": [
  {
   "cell_type": "code",
   "execution_count": 10,
   "metadata": {
    "collapsed": false
   },
   "outputs": [
    {
     "name": "stdout",
     "output_type": "stream",
     "text": [
      "File saved as: creatures/stilts2.json\n"
     ]
    }
   ],
   "source": [
    "from editor import Editor\n",
    "from Box2D.b2 import pi\n",
    "\n",
    "# edit your model by running this cell\n",
    "# to add a body part hit b and it will spawn under your mouse\n",
    "# to move body parts drag them with the mouse\n",
    "# to connect body parts, hit p to pin two bodies at the mouse location\n",
    "# to change a body part's size, click and hold, then use the arrow keys to modify width/height\n",
    "# hit 's' to save while editing to model.json\n",
    "\n",
    "editor = Editor()\n",
    "editor.load('creatures/stilts2.json')\n",
    "editor.run()"
   ]
  },
  {
   "cell_type": "code",
   "execution_count": 1,
   "metadata": {
    "collapsed": false
   },
   "outputs": [
    {
     "data": {
      "image/png": "[encoded data removed]",
      "text/plain": [
       "<matplotlib.figure.Figure at 0x7f64dc32db00>"
      ]
     },
     "metadata": {},
     "output_type": "display_data"
    },
    {
     "name": "stdout",
     "output_type": "stream",
     "text": [
      "episode: 800 variance: 3 learning_rate: 5e-06\n"
     ]
    }
   ],
   "source": [
    "%matplotlib inline\n",
    "from matplotlib import pyplot as plt\n",
    "import numpy as np\n",
    "from IPython.display import clear_output\n",
    "from engine2 import Engine\n",
    "from pyglet.window import key\n",
    "from time import sleep\n",
    "import util\n",
    "import features\n",
    "\n",
    "# train your model to (hopefully) walk by running this cell\n",
    "\n",
    "# hit s to speed up training, and s again to watch the best set of weights\n",
    "# use the up and down arrow keys to introduce more or less randomness in weight changes\n",
    "\n",
    "# this cell is an experiment with policy improvement\n",
    "# the agent's joint torques (continuous, action) are randomly sampled from means output by a neural network\n",
    "# the gradient wrt the weights of that network, for that state, are saved each time step\n",
    "# if the average reward at the end of an episode is positive, we want the agent to act more like it did\n",
    "# if the reward was negative we want it to act less like it did that episode\n",
    "\n",
    "FILE = 'creatures/two_legs.json'\n",
    "\n",
    "# Physics engine and window\n",
    "LOWER_LIM = -.1 * np.pi\n",
    "UPPER_LIM = .1 * np.pi\n",
    "LIMIT = True\n",
    "ANGLE_RANGE = UPPER_LIM - LOWER_LIM if LIMIT else np.pi*2.0\n",
    "\n",
    "engine = Engine(caption='Train', width=1280, height=720, gravity=(0, -50), joint_limit=LIMIT, \\\n",
    "               upper_angle=UPPER_LIM, lower_angle=LOWER_LIM, max_torque=10000, \\\n",
    "                linear_damping=0.0, angular_damping=0.0)\n",
    "\n",
    "# Load creature\n",
    "engine.load(FILE)\n",
    "\n",
    "# count joints and body parts\n",
    "body_count = len(engine.bodies)\n",
    "joint_count = len(engine.joints)\n",
    "\n",
    "if body_count == 0 or joint_count == 0:\n",
    "    engine.close()\n",
    "    raise RuntimeError(\"Your model doesn't have any physics bodies or joints\")\n",
    "\n",
    "def features(time_step=0):\n",
    "    f = []\n",
    "    \n",
    "    for b in engine.bodies:\n",
    "        a = b.angle % ANGLE_RANGE\n",
    "        a /= ANGLE_RANGE\n",
    "        a = a * 2.0 - 1.0\n",
    "        f += [a]\n",
    "        f += [np.tanh(b.angularVelocity)]\n",
    "        #f += [np.tanh(b.linearVelocity[0])]\n",
    "        f += [np.tanh(b.linearVelocity[1])]\n",
    "        #f += [np.sin(a)]\n",
    "        #f += [np.cos(a)]\n",
    "        f += [engine.to_window(b.position)[0]/engine.height]\n",
    "    \n",
    "    #f += [np.sin(time_step / 2.0)] # Creature's heartbeat? :-)\n",
    "    #f += [np.cos(time_step / 2.0)]\n",
    "    #f += [np.sin(time_step)]\n",
    "    f += [1] # bias\n",
    "    return np.array([f])\n",
    "\n",
    "TIMESTEPS = 30 # timesteps per episode\n",
    "total_r = 0.0\n",
    "episode = 0\n",
    "learning_rate = .000005\n",
    "variance = 3 # increase or decrease deviation from means output by nn\n",
    "hdim = 32\n",
    "\n",
    "# tanh:\n",
    "act = lambda x: np.tanh(x)\n",
    "act_p = lambda x: 1.0 - np.tanh(x)**2\n",
    "\n",
    "# rect linear:\n",
    "#act = lambda x: x * (x > 0)\n",
    "#act_p = lambda x: (x > 0).astype(np.float)\n",
    "\n",
    "# soft_plus:\n",
    "#act = lambda x: np.log(1+np.exp(x))\n",
    "#act_p = lambda x: np.exp(x)/(1+np.exp(x))\n",
    "\n",
    "# sparse:\n",
    "\"\"\"\n",
    "sparsity = 28\n",
    "def act(x):\n",
    "    x = x.copy()\n",
    "    idx = np.argpartition(x, sparsity)[0, :sparsity]\n",
    "    x[0, idx] = 0\n",
    "    return x\n",
    "\n",
    "def act_p(x):\n",
    "    idx = np.argpartition(x, sparsity)[0, :sparsity]\n",
    "    mask = np.ones_like(x)\n",
    "    mask[0, idx] = 0\n",
    "    return mask\n",
    "\"\"\"\n",
    "\n",
    "W1 = util.randn([features().shape[1], hdim]) # initial set of weights\n",
    "W2 = util.randn([hdim + 1, joint_count]) # initial set of weights\n",
    "\n",
    "rs = []\n",
    "avg_r = 0\n",
    "\n",
    "speedup = False\n",
    "running = True\n",
    "interacted = False\n",
    "\n",
    "while running:\n",
    "    if not interacted:\n",
    "        rs += [total_r]\n",
    "        \n",
    "    if len(rs) >= 100:\n",
    "        avg_r = np.sum(rs[-100:])/100.0\n",
    "    \n",
    "    if episode % 100 == 0:\n",
    "        clear_output(wait=True)\n",
    "        \n",
    "        if len(rs) > 1000:\n",
    "            rs = rs[-1000:]\n",
    "        fig = plt.plot(rs, 'b')\n",
    "        plt.plot([0, len(rs)], [0, 0], 'r')\n",
    "        plt.show()\n",
    "        \n",
    "        print('episode: {} variance: {} learning_rate: {}'.format(episode, np.round(variance, 2), learning_rate))\n",
    "    \n",
    "    # new episode\n",
    "    total_r = 0.0\n",
    "    t = 0\n",
    "    episode += 1\n",
    "    \n",
    "    engine.clear_all_but_ground()\n",
    "    engine.load(FILE)\n",
    "    \n",
    "    engine.set_position((engine.width/2, engine.height/2))\n",
    "    \n",
    "    for j in engine.joints:\n",
    "        j.motorSpeed = np.random.randn()\n",
    "    \n",
    "    engine.step_physics(50)\n",
    "    for b in engine.bodies:\n",
    "        b.linearVelocity = (0, 0)\n",
    "        b.angularVelocity = 0\n",
    "    \n",
    "    g1 = np.zeros_like(W1)\n",
    "    g2 = np.zeros_like(W2)\n",
    "    \n",
    "    interacted = False\n",
    "    reset = False\n",
    "    while not reset:\n",
    "        engine.window.dispatch_events()\n",
    "        \n",
    "        if engine.exited():\n",
    "            running = False\n",
    "            reset = True\n",
    "                \n",
    "        # keyboard input\n",
    "        if engine.window.pressed(key.UP):\n",
    "            variance += 0.1\n",
    "        if engine.window.pressed(key.DOWN):\n",
    "            variance -= 0.1\n",
    "        if engine.window.pressed(key.S):\n",
    "            speedup = not speedup\n",
    "            \n",
    "        variance = max(variance, 0.0)\n",
    "            \n",
    "        engine.window.reset_keys()\n",
    "        \n",
    "        if engine.window.mouse_pressed:\n",
    "            engine.create_mouse_joint()\n",
    "            interacted = True\n",
    "        else:\n",
    "            engine.destroy_mouse_joint()\n",
    "        \n",
    "        engine.update_mouse_joint()\n",
    "        \n",
    "        text = 'episode: {} avg reward: {} variance: {}'.format(episode, np.round(avg_r, 2), np.round(variance, 2))\n",
    "                \n",
    "        x = features(t)\n",
    "        z1 = x.dot(W1)\n",
    "        h1 = act(z1)\n",
    "        h1 = np.concatenate((h1, np.ones([1, 1])), axis=1)\n",
    "        z2 = h1.dot(W2)\n",
    "        h2 = act(z2) * 4\n",
    "        \n",
    "        if variance > 0:\n",
    "            torques = np.array([np.random.normal(loc=u, scale=np.sqrt(variance)) for u in h2[0]])\n",
    "        else:\n",
    "            torques = h2[0]\n",
    "        \n",
    "        start_p = engine.body_position()\n",
    "        \n",
    "        for i, j in enumerate(engine.joints):\n",
    "            j.motorSpeed = torques[i]\n",
    "        \n",
    "        for i in range(10):\n",
    "            engine.step_physics(1)\n",
    "            if not speedup:\n",
    "                engine.window.clear()\n",
    "                engine.window.draw_matrices([x.T, W1, h1.T, W2, h2.T, g1, g2], recalc=False)\n",
    "                engine.window.draw_text(text)\n",
    "                engine.render()\n",
    "                engine.clock_tick()\n",
    "                \n",
    "        end_p = engine.body_position()\n",
    "        \n",
    "        # reward\n",
    "        reward = (end_p[0] - start_p[0])\n",
    "        total_r += reward\n",
    "                \n",
    "        #util.render_matrix(engine.window, np.array([[reward]]), (int(end_p[0]), int(end_p[1])))\n",
    "        \n",
    "        if abs(end_p[0] - engine.width/2) > 400:\n",
    "            engine.set_position((engine.width/2, end_p[1]), zero_vel=False)\n",
    "        \n",
    "        \n",
    "        # train\n",
    "        #r = np.clip(reward-1, -1, 1)\n",
    "        r = reward\n",
    "        r = np.clip(r, -10, 10)\n",
    "\n",
    "        delta = (torques - h2) # /variance\n",
    "        dz2 = np.multiply(delta, 4 * act_p(z2))\n",
    "        dh1 = W2.dot(dz2.T).T\n",
    "        dz1 = np.multiply(dh1[:, :-1], act_p(z1))\n",
    "        \n",
    "        g1 += np.multiply(x.T, dz1)\n",
    "        g2 += np.multiply(h1.T, dz2)\n",
    "        \n",
    "        if abs(r) > 8:\n",
    "            W1 += learning_rate * g1 * r\n",
    "            W2 += learning_rate * g2 * r\n",
    "        \n",
    "        g1 *= 0.9\n",
    "        g2 *= 0.9\n",
    "        \n",
    "        if not speedup:\n",
    "            engine.window.draw_matrices([x.T, W1, h1.T, W2, h2.T, g1, g2], recalc=True)\n",
    "        \n",
    "        if t > TIMESTEPS and speedup:\n",
    "            reset = True\n",
    "            if episode % 10 == 0:\n",
    "                engine.window.clear()\n",
    "                engine.window.draw_matrices([x.T, W1, h1.T, W2, h2.T, g1, g2])\n",
    "                engine.window.draw_text(text)\n",
    "                engine.render()\n",
    "            \n",
    "        t += 1\n",
    "\n",
    "engine.close()"
   ]
  },
  {
   "cell_type": "code",
   "execution_count": 6,
   "metadata": {
    "collapsed": false
   },
   "outputs": [],
   "source": [
    "import numpy as np\n",
    "a = np.random.random_sample([100, 2]).T"
   ]
  },
  {
   "cell_type": "code",
   "execution_count": 7,
   "metadata": {
    "collapsed": false
   },
   "outputs": [
    {
     "data": {
      "text/plain": [
       "(2, 100)"
      ]
     },
     "execution_count": 7,
     "metadata": {},
     "output_type": "execute_result"
    }
   ],
   "source": [
    "a.shape"
   ]
  },
  {
   "cell_type": "code",
   "execution_count": 8,
   "metadata": {
    "collapsed": false
   },
   "outputs": [],
   "source": [
    "sha = a.shape"
   ]
  },
  {
   "cell_type": "code",
   "execution_count": 9,
   "metadata": {
    "collapsed": false
   },
   "outputs": [
    {
     "data": {
      "text/plain": [
       "(2, 100)"
      ]
     },
     "execution_count": 9,
     "metadata": {},
     "output_type": "execute_result"
    }
   ],
   "source": [
    "sha"
   ]
  },
  {
   "cell_type": "code",
   "execution_count": 10,
   "metadata": {
    "collapsed": true
   },
   "outputs": [],
   "source": [
    "a=a.flatten()"
   ]
  },
  {
   "cell_type": "code",
   "execution_count": 11,
   "metadata": {
    "collapsed": false
   },
   "outputs": [
    {
     "data": {
      "text/plain": [
       "(200,)"
      ]
     },
     "execution_count": 11,
     "metadata": {},
     "output_type": "execute_result"
    }
   ],
   "source": [
    "a.shape"
   ]
  },
  {
   "cell_type": "code",
   "execution_count": 12,
   "metadata": {
    "collapsed": false
   },
   "outputs": [
    {
     "data": {
      "text/plain": [
       "(2, 100)"
      ]
     },
     "execution_count": 12,
     "metadata": {},
     "output_type": "execute_result"
    }
   ],
   "source": [
    "sha"
   ]
  },
  {
   "cell_type": "code",
   "execution_count": null,
   "metadata": {
    "collapsed": true
   },
   "outputs": [],
   "source": []
  }
 ],
 "metadata": {
  "kernelspec": {
   "display_name": "Python 3",
   "language": "python",
   "name": "python3"
  },
  "language_info": {
   "codemirror_mode": {
    "name": "ipython",
    "version": 3
   },
   "file_extension": ".py",
   "mimetype": "text/x-python",
   "name": "python",
   "nbconvert_exporter": "python",
   "pygments_lexer": "ipython3",
   "version": "3.4.5"
  },
  "widgets": {
   "state": {},
   "version": "1.1.2"
  }
 },
 "nbformat": 4,
 "nbformat_minor": 0
}
